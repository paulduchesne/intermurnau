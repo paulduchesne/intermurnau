{
 "cells": [
  {
   "cell_type": "code",
   "execution_count": 1,
   "metadata": {},
   "outputs": [],
   "source": [
    "\n",
    "# ontology\n"
   ]
  },
  {
   "cell_type": "code",
   "execution_count": 2,
   "metadata": {},
   "outputs": [],
   "source": [
    "\n",
    "# import libraries\n",
    "\n",
    "import rdflib, pathlib, uuid\n"
   ]
  },
  {
   "cell_type": "code",
   "execution_count": 3,
   "metadata": {},
   "outputs": [],
   "source": [
    "\n",
    "# define graph and namespace\n",
    "\n",
    "graph = rdflib.Graph()\n",
    "name_wb = rdflib.Namespace('http://wikibas.se/ontology')\n",
    "name_fiaf = rdflib.Namespace('https://www.fiafnet.org/')\n"
   ]
  },
  {
   "cell_type": "code",
   "execution_count": 4,
   "metadata": {},
   "outputs": [],
   "source": [
    "\n",
    "# useful functions\n",
    "\n",
    "def make_claim(s, p, o):        \n",
    "    claim_id = name_fiaf[f\"resource/claim/{uuid.uuid4()}\"]    \n",
    "    graph.add((s, name_wb['#claim'], claim_id))\n",
    "    graph.add((claim_id, p, o))\n",
    "    return claim_id\n"
   ]
  },
  {
   "cell_type": "code",
   "execution_count": 5,
   "metadata": {},
   "outputs": [
    {
     "name": "stdout",
     "output_type": "stream",
     "text": [
      "2\n"
     ]
    }
   ],
   "source": [
    "\n",
    "# basic construction\n",
    "\n",
    "graph.add((name_fiaf['ontology/property/instance_of'], rdflib.RDFS.label, rdflib.Literal('instance of', lang='en')))    \n",
    "graph.add((name_fiaf['ontology/property/external_id'], rdflib.RDFS.label, rdflib.Literal('external id', lang='en')))  \n",
    "\n",
    "print(len(graph))\n"
   ]
  },
  {
   "cell_type": "code",
   "execution_count": 6,
   "metadata": {},
   "outputs": [
    {
     "name": "stdout",
     "output_type": "stream",
     "text": [
      "15\n"
     ]
    }
   ],
   "source": [
    "\n",
    "# EN15907 framework\n",
    "\n",
    "graph.add((name_fiaf['ontology/property/work'], rdflib.RDFS.label, rdflib.Literal('work', lang='en')))\n",
    "graph.add((name_fiaf['ontology/item/work'], rdflib.RDFS.label, rdflib.Literal('Work', lang='en')))\n",
    "\n",
    "graph.add((name_fiaf['ontology/property/work_type'], rdflib.RDFS.label, rdflib.Literal('work type', lang='en')))\n",
    "graph.add((name_fiaf['ontology/item/work_type'], rdflib.RDFS.label, rdflib.Literal('Work Type', lang='en')))\n",
    "\n",
    "make_claim(name_fiaf['ontology/item/monographic'], name_fiaf['ontology/property/instance_of'], name_fiaf['ontology/item/work_type'])\n",
    "graph.add((name_fiaf['ontology/item/monographic'], rdflib.RDFS.label, rdflib.Literal('Monographic', lang='en')))\n",
    "\n",
    "graph.add((name_fiaf['ontology/property/manifestation_of'], rdflib.RDFS.label, rdflib.Literal('manifestation of', lang='en')))   \n",
    "graph.add((name_fiaf['ontology/property/manifestation'], rdflib.RDFS.label, rdflib.Literal('manifestation', lang='en')))\n",
    "graph.add((name_fiaf['ontology/item/manifestation'], rdflib.RDFS.label, rdflib.Literal('Manifestation', lang='en')))\n",
    "\n",
    "graph.add((name_fiaf['ontology/property/item_of'], rdflib.RDFS.label, rdflib.Literal('item of', lang='en')))   \n",
    "graph.add((name_fiaf['ontology/property/item'], rdflib.RDFS.label, rdflib.Literal('item', lang='en')))\n",
    "graph.add((name_fiaf['ontology/item/item'], rdflib.RDFS.label, rdflib.Literal('Item', lang='en')))\n",
    "\n",
    "print(len(graph))\n"
   ]
  },
  {
   "cell_type": "code",
   "execution_count": 7,
   "metadata": {},
   "outputs": [
    {
     "name": "stdout",
     "output_type": "stream",
     "text": [
      "28\n"
     ]
    }
   ],
   "source": [
    "\n",
    "# titles\n",
    "\n",
    "graph.add((name_fiaf['ontology/property/title'], rdflib.RDFS.label, rdflib.Literal('title', lang='en'))) \n",
    "graph.add((name_fiaf['ontology/property/title_type'], rdflib.RDFS.label, rdflib.Literal('title type', lang='en'))) \n",
    "graph.add((name_fiaf['ontology/item/title_type'], rdflib.RDFS.label, rdflib.Literal('Title Type', lang='en'))) \n",
    "\n",
    "make_claim(name_fiaf['ontology/item/original_title'], name_fiaf['ontology/property/instance_of'], name_fiaf['ontology/item/title_type'])\n",
    "graph.add((name_fiaf['ontology/item/original_title'], rdflib.RDFS.label, rdflib.Literal('Original Title', lang='en'))) \n",
    "graph.add((name_fiaf['ontology/item/original_title'], rdflib.RDFS.label, rdflib.Literal('Originaltitel', lang='sv'))) \n",
    "graph.add((name_fiaf['ontology/item/original_title'], rdflib.RDFS.label, rdflib.Literal('Nazev Origin', lang='cs'))) \n",
    "graph.add((name_fiaf['ontology/item/original_title'], rdflib.RDFS.label, rdflib.Literal('Originele Titel', lang='nl'))) \n",
    "graph.add((name_fiaf['ontology/item/original_title'], rdflib.RDFS.label, rdflib.Literal('Originaltitel', lang='de'))) \n",
    "\n",
    "make_claim(name_fiaf['ontology/item/work_title'], name_fiaf['ontology/property/instance_of'], name_fiaf['ontology/item/title_type'])\n",
    "graph.add((name_fiaf['ontology/item/work_title'], rdflib.RDFS.label, rdflib.Literal('Work Title', lang='en'))) \n",
    "\n",
    "print(len(graph))\n"
   ]
  },
  {
   "cell_type": "code",
   "execution_count": 8,
   "metadata": {},
   "outputs": [
    {
     "name": "stdout",
     "output_type": "stream",
     "text": [
      "49\n"
     ]
    }
   ],
   "source": [
    "\n",
    "# events\n",
    "\n",
    "graph.add((name_fiaf['ontology/property/event'], rdflib.RDFS.label, rdflib.Literal('event', lang='en'))) \n",
    "graph.add((name_fiaf['ontology/property/event_type'], rdflib.RDFS.label, rdflib.Literal('event type', lang='en'))) \n",
    "graph.add((name_fiaf['ontology/item/event_type'], rdflib.RDFS.label, rdflib.Literal('Event Type', lang='en'))) \n",
    "\n",
    "make_claim(name_fiaf['ontology/item/birth'], name_fiaf['ontology/property/instance_of'], name_fiaf['ontology/item/event_type'])\n",
    "graph.add((name_fiaf['ontology/item/birth'], rdflib.RDFS.label, rdflib.Literal('Birth', lang='en'))) \n",
    "graph.add((name_fiaf['ontology/item/birth'], rdflib.RDFS.label, rdflib.Literal('Geboorte', lang='nl'))) \n",
    "\n",
    "make_claim(name_fiaf['ontology/item/death'], name_fiaf['ontology/property/instance_of'], name_fiaf['ontology/item/event_type'])\n",
    "graph.add((name_fiaf['ontology/item/death'], rdflib.RDFS.label, rdflib.Literal('Death', lang='en'))) \n",
    "graph.add((name_fiaf['ontology/item/death'], rdflib.RDFS.label, rdflib.Literal('Sterf', lang='nl'))) \n",
    "\n",
    "make_claim(name_fiaf['ontology/item/publication'], name_fiaf['ontology/property/instance_of'], name_fiaf['ontology/item/event_type'])\n",
    "graph.add((name_fiaf['ontology/item/publication'], rdflib.RDFS.label, rdflib.Literal('Publication', lang='en')))\n",
    "\n",
    "make_claim(name_fiaf['ontology/item/decision_copyright'], name_fiaf['ontology/property/instance_of'], name_fiaf['ontology/item/event_type'])\n",
    "graph.add((name_fiaf['ontology/item/decision_copyright'], rdflib.RDFS.label, rdflib.Literal('Decision (Copyright)', lang='en')))\n",
    "\n",
    "make_claim(name_fiaf['ontology/item/decision_censorship'], name_fiaf['ontology/property/instance_of'], name_fiaf['ontology/item/event_type'])\n",
    "graph.add((name_fiaf['ontology/item/decision_censorship'], rdflib.RDFS.label, rdflib.Literal('Decision (Censorship)', lang='en')))\n",
    "\n",
    "graph.add((name_fiaf['ontology/property/certificate'], rdflib.RDFS.label, rdflib.Literal('certificate', lang='en'))) \n",
    "\n",
    "print(len(graph))\n"
   ]
  },
  {
   "cell_type": "code",
   "execution_count": 9,
   "metadata": {},
   "outputs": [
    {
     "name": "stdout",
     "output_type": "stream",
     "text": [
      "89\n"
     ]
    }
   ],
   "source": [
    "\n",
    "# location data\n",
    "\n",
    "graph.add((name_fiaf['ontology/property/contributed_by'], rdflib.RDFS.label, rdflib.Literal('contributed by', lang='en'))) \n",
    "graph.add((name_fiaf['ontology/property/institution'], rdflib.RDFS.label, rdflib.Literal('institution', lang='en'))) \n",
    "graph.add((name_fiaf['ontology/property/held_at'], rdflib.RDFS.label, rdflib.Literal('held at', lang='en'))) \n",
    "graph.add((name_fiaf['ontology/property/located_in'], rdflib.RDFS.label, rdflib.Literal('located in', lang='en'))) \n",
    "\n",
    "graph.add((name_fiaf['ontology/item/holding_institution'], rdflib.RDFS.label, rdflib.Literal('Institution', lang='en'))) \n",
    "\n",
    "graph.add((name_fiaf['ontology/property/production_country'], rdflib.RDFS.label, rdflib.Literal('production country', lang='en'))) \n",
    "graph.add((name_fiaf['ontology/property/production_country'], rdflib.RDFS.label, rdflib.Literal('productieland', lang='nl'))) \n",
    "\n",
    "graph.add((name_fiaf['ontology/property/country'], rdflib.RDFS.label, rdflib.Literal('country', lang='en'))) \n",
    "graph.add((name_fiaf['ontology/property/country'], rdflib.RDFS.label, rdflib.Literal('vertaling', lang='nl'))) \n",
    "\n",
    "graph.add((name_fiaf['ontology/item/country'], rdflib.RDFS.label, rdflib.Literal('Country', lang='en'))) \n",
    "graph.add((name_fiaf['ontology/item/country'], rdflib.RDFS.label, rdflib.Literal('Vertaling', lang='nl'))) \n",
    "\n",
    "make_claim(name_fiaf['ontology/item/netherlands'], name_fiaf['ontology/property/instance_of'], name_fiaf['ontology/item/country'])   \n",
    "graph.add((name_fiaf['ontology/item/netherlands'], rdflib.RDFS.label, rdflib.Literal('Netherlands', lang='en'))) \n",
    "graph.add((name_fiaf['ontology/item/netherlands'], rdflib.RDFS.label, rdflib.Literal('Nederland', lang='nl'))) \n",
    "\n",
    "make_claim(name_fiaf['ontology/item/germany'], name_fiaf['ontology/property/instance_of'], name_fiaf['ontology/item/country'])   \n",
    "graph.add((name_fiaf['ontology/item/germany'], rdflib.RDFS.label, rdflib.Literal('Germany', lang='en'))) \n",
    "graph.add((name_fiaf['ontology/item/germany'], rdflib.RDFS.label, rdflib.Literal('Duitsland', lang='nl'))) \n",
    "\n",
    "make_claim(name_fiaf['ontology/item/usa'], name_fiaf['ontology/property/instance_of'], name_fiaf['ontology/item/country'])   \n",
    "graph.add((name_fiaf['ontology/item/usa'], rdflib.RDFS.label, rdflib.Literal('United States of America', lang='en'))) \n",
    "graph.add((name_fiaf['ontology/item/usa'], rdflib.RDFS.label, rdflib.Literal('Verenigde Staten', lang='nl'))) \n",
    "\n",
    "make_claim(name_fiaf['ontology/item/uk'], name_fiaf['ontology/property/instance_of'], name_fiaf['ontology/item/country'])   \n",
    "graph.add((name_fiaf['ontology/item/uk'], rdflib.RDFS.label, rdflib.Literal('United Kingdom', lang='en'))) \n",
    "\n",
    "make_claim(name_fiaf['ontology/item/czech_republic'], name_fiaf['ontology/property/instance_of'], name_fiaf['ontology/item/country'])    \n",
    "for a,b in [('Česko', 'cs'),('Tschechien', 'de'),('Czech Republic', 'en'),('Tsjechië', 'nl'),('Tjeckien', 'sv')]:\n",
    "    graph.add((name_fiaf['ontology/item/czech_republic'], rdflib.RDFS.label, rdflib.Literal(a, lang=b))) \n",
    "\n",
    "make_claim(name_fiaf['ontology/item/sweden'], name_fiaf['ontology/property/instance_of'], name_fiaf['ontology/item/country'])    \n",
    "for a,b in [('Švédsko', 'cs'),('Schweden', 'de'),('Sweden', 'en'),('Zweden', 'nl'),('Sverige', 'sv')]:\n",
    "    graph.add((name_fiaf['ontology/item/sweden'], rdflib.RDFS.label, rdflib.Literal(a, lang=b))) \n",
    "\n",
    "print(len(graph))\n"
   ]
  },
  {
   "cell_type": "code",
   "execution_count": 10,
   "metadata": {},
   "outputs": [
    {
     "name": "stdout",
     "output_type": "stream",
     "text": [
      "107\n"
     ]
    }
   ],
   "source": [
    "\n",
    "# agent \n",
    "\n",
    "graph.add((name_fiaf['ontology/property/agent'], rdflib.RDFS.label, rdflib.Literal('agent', lang='en'))) \n",
    "graph.add((name_fiaf['ontology/item/agent'], rdflib.RDFS.label, rdflib.Literal('Agent', lang='en'))) \n",
    "\n",
    "graph.add((name_fiaf['ontology/property/forename'], rdflib.RDFS.label, rdflib.Literal('forename', lang='en'))) \n",
    "graph.add((name_fiaf['ontology/property/forename'], rdflib.RDFS.label, rdflib.Literal('voornamen', lang='nl'))) \n",
    "\n",
    "graph.add((name_fiaf['ontology/property/surname'], rdflib.RDFS.label, rdflib.Literal('surname', lang='en'))) \n",
    "graph.add((name_fiaf['ontology/property/surname'], rdflib.RDFS.label, rdflib.Literal('familienaam', lang='nl'))) \n",
    "\n",
    "graph.add((name_fiaf['ontology/property/gender'], rdflib.RDFS.label, rdflib.Literal('gender', lang='en'))) \n",
    "graph.add((name_fiaf['ontology/property/gender'], rdflib.RDFS.label, rdflib.Literal('geslacht', lang='nl'))) \n",
    "\n",
    "graph.add((name_fiaf['ontology/item/gender'], rdflib.RDFS.label, rdflib.Literal('Gender', lang='en'))) \n",
    "graph.add((name_fiaf['ontology/item/gender'], rdflib.RDFS.label, rdflib.Literal('Geslacht', lang='nl'))) \n",
    "\n",
    "make_claim(name_fiaf['ontology/item/male'], name_fiaf['ontology/property/instance_of'], name_fiaf['ontology/item/gender'])\n",
    "graph.add((name_fiaf['ontology/item/male'], rdflib.RDFS.label, rdflib.Literal('Male', lang='en'))) \n",
    "graph.add((name_fiaf['ontology/item/male'], rdflib.RDFS.label, rdflib.Literal('Man', lang='nl'))) \n",
    "\n",
    "make_claim(name_fiaf['ontology/item/female'], name_fiaf['ontology/property/instance_of'], name_fiaf['ontology/item/gender'])\n",
    "graph.add((name_fiaf['ontology/item/female'], rdflib.RDFS.label, rdflib.Literal('Female', lang='en'))) \n",
    "graph.add((name_fiaf['ontology/item/female'], rdflib.RDFS.label, rdflib.Literal('Vrouw', lang='nl'))) \n",
    "\n",
    "print(len(graph))\n"
   ]
  },
  {
   "cell_type": "code",
   "execution_count": 11,
   "metadata": {},
   "outputs": [
    {
     "name": "stdout",
     "output_type": "stream",
     "text": [
      "140\n"
     ]
    }
   ],
   "source": [
    "\n",
    "# agent type\n",
    "\n",
    "graph.add((name_fiaf['ontology/property/agent_type'], rdflib.RDFS.label, rdflib.Literal('agent type', lang='en'))) \n",
    "graph.add((name_fiaf['ontology/item/agent_type'], rdflib.RDFS.label, rdflib.Literal('Agent Type', lang='en'))) \n",
    "\n",
    "make_claim(name_fiaf['ontology/item/cast'], name_fiaf['ontology/property/instance_of'], name_fiaf['ontology/item/agent_type']) \n",
    "graph.add((name_fiaf['ontology/item/cast'], rdflib.RDFS.label, rdflib.Literal('Cast', lang='en'))) \n",
    "graph.add((name_fiaf['ontology/item/cast'], rdflib.RDFS.label, rdflib.Literal('Roll', lang='sv'))) \n",
    "graph.add((name_fiaf['ontology/item/cast'], rdflib.RDFS.label, rdflib.Literal('Obsazení', lang='cs'))) \n",
    "graph.add((name_fiaf['ontology/item/cast'], rdflib.RDFS.label, rdflib.Literal('Acteur', lang='nl'))) \n",
    "graph.add((name_fiaf['ontology/item/cast'], rdflib.RDFS.label, rdflib.Literal('Darsteller', lang='de'))) \n",
    "\n",
    "make_claim(name_fiaf['ontology/item/director'], name_fiaf['ontology/property/instance_of'], name_fiaf['ontology/item/agent_type']) \n",
    "graph.add((name_fiaf['ontology/item/director'], rdflib.RDFS.label, rdflib.Literal('Director', lang='en'))) \n",
    "graph.add((name_fiaf['ontology/item/director'], rdflib.RDFS.label, rdflib.Literal('Regie', lang='nl'))) \n",
    "\n",
    "make_claim(name_fiaf['ontology/item/producer'], name_fiaf['ontology/property/instance_of'], name_fiaf['ontology/item/agent_type']) \n",
    "graph.add((name_fiaf['ontology/item/producer'], rdflib.RDFS.label, rdflib.Literal('Producer', lang='en'))) \n",
    "graph.add((name_fiaf['ontology/item/producer'], rdflib.RDFS.label, rdflib.Literal('Producent', lang='nl'))) \n",
    "\n",
    "make_claim(name_fiaf['ontology/item/cinematographer'], name_fiaf['ontology/property/instance_of'], name_fiaf['ontology/item/agent_type']) \n",
    "graph.add((name_fiaf['ontology/item/cinematographer'], rdflib.RDFS.label, rdflib.Literal('Cinematographer', lang='en'))) \n",
    "graph.add((name_fiaf['ontology/item/cinematographer'], rdflib.RDFS.label, rdflib.Literal('Camera', lang='nl'))) \n",
    "\n",
    "make_claim(name_fiaf['ontology/item/editor'], name_fiaf['ontology/property/instance_of'], name_fiaf['ontology/item/agent_type']) \n",
    "graph.add((name_fiaf['ontology/item/editor'], rdflib.RDFS.label, rdflib.Literal('Editor', lang='en'))) \n",
    "graph.add((name_fiaf['ontology/item/editor'], rdflib.RDFS.label, rdflib.Literal('Montage', lang='nl')))\n",
    "\n",
    "make_claim(name_fiaf['ontology/item/screenwriter'], name_fiaf['ontology/property/instance_of'], name_fiaf['ontology/item/agent_type']) \n",
    "graph.add((name_fiaf['ontology/item/screenwriter'], rdflib.RDFS.label, rdflib.Literal('Screenwriter', lang='en'))) \n",
    "graph.add((name_fiaf['ontology/item/screenwriter'], rdflib.RDFS.label, rdflib.Literal('Scenarioschrijver', lang='nl')))\n",
    "\n",
    "make_claim(name_fiaf['ontology/item/composer'], name_fiaf['ontology/property/instance_of'], name_fiaf['ontology/item/agent_type']) \n",
    "graph.add((name_fiaf['ontology/item/composer'], rdflib.RDFS.label, rdflib.Literal('Composer', lang='en'))) \n",
    "graph.add((name_fiaf['ontology/item/composer'], rdflib.RDFS.label, rdflib.Literal('Componist', lang='nl')))\n",
    "\n",
    "print(len(graph))        \n"
   ]
  },
  {
   "cell_type": "code",
   "execution_count": 12,
   "metadata": {},
   "outputs": [
    {
     "name": "stdout",
     "output_type": "stream",
     "text": [
      "157\n"
     ]
    }
   ],
   "source": [
    "\n",
    "# item access\n",
    "\n",
    "graph.add((name_fiaf['ontology/property/access'], rdflib.RDFS.label, rdflib.Literal('access', lang='en'))) # property\n",
    "graph.add((name_fiaf['ontology/item/access_type'], rdflib.RDFS.label, rdflib.Literal('Access Type', lang='en'))) # item\n",
    "\n",
    "make_claim(name_fiaf['ontology/item/moma_only'], name_fiaf['ontology/property/instance_of'], name_fiaf['ontology/item/access_type'])\n",
    "graph.add((name_fiaf['ontology/item/moma_only'], rdflib.RDFS.label, rdflib.Literal('MoMA use only', lang='en')))\n",
    "\n",
    "make_claim(name_fiaf['ontology/item/viewing'], name_fiaf['ontology/property/instance_of'], name_fiaf['ontology/item/access_type'])\n",
    "graph.add((name_fiaf['ontology/item/viewing'], rdflib.RDFS.label, rdflib.Literal('Viewing', lang='en')))\n",
    "\n",
    "make_claim(name_fiaf['ontology/item/master'], name_fiaf['ontology/property/instance_of'], name_fiaf['ontology/item/access_type'])\n",
    "graph.add((name_fiaf['ontology/item/master'], rdflib.RDFS.label, rdflib.Literal('Master', lang='en')))\n",
    "\n",
    "make_claim(name_fiaf['ontology/item/restricted'], name_fiaf['ontology/property/instance_of'], name_fiaf['ontology/item/access_type'])\n",
    "graph.add((name_fiaf['ontology/item/restricted'], rdflib.RDFS.label, rdflib.Literal('Restricted', lang='en')))\n",
    "\n",
    "make_claim(name_fiaf['ontology/item/lending'], name_fiaf['ontology/property/instance_of'], name_fiaf['ontology/item/access_type'])\n",
    "graph.add((name_fiaf['ontology/item/lending'], rdflib.RDFS.label, rdflib.Literal('Lending', lang='en')))\n",
    "\n",
    "print(len(graph))\n"
   ]
  },
  {
   "cell_type": "code",
   "execution_count": 13,
   "metadata": {},
   "outputs": [
    {
     "name": "stdout",
     "output_type": "stream",
     "text": [
      "174\n"
     ]
    }
   ],
   "source": [
    "\n",
    "# item carrier\n",
    "\n",
    "graph.add((name_fiaf['ontology/property/carrier'], rdflib.RDFS.label, rdflib.Literal('carrier', lang='en'))) # property\n",
    "graph.add((name_fiaf['ontology/item/carrier_type'], rdflib.RDFS.label, rdflib.Literal('Carrier Type', lang='en'))) # item\n",
    "\n",
    "make_claim(name_fiaf['ontology/item/film'], name_fiaf['ontology/property/instance_of'], name_fiaf['ontology/item/carrier_type'])\n",
    "graph.add((name_fiaf['ontology/item/film'], rdflib.RDFS.label, rdflib.Literal('Film', lang='en')))\n",
    "\n",
    "make_claim(name_fiaf['ontology/item/sound_tape'], name_fiaf['ontology/property/instance_of'], name_fiaf['ontology/item/carrier_type'])\n",
    "graph.add((name_fiaf['ontology/item/sound_tape'], rdflib.RDFS.label, rdflib.Literal('Soundtape', lang='en')))\n",
    "\n",
    "make_claim(name_fiaf['ontology/item/video_tape'], name_fiaf['ontology/property/instance_of'], name_fiaf['ontology/item/carrier_type'])\n",
    "graph.add((name_fiaf['ontology/item/video_tape'], rdflib.RDFS.label, rdflib.Literal('Videotape', lang='en')))\n",
    "\n",
    "make_claim(name_fiaf['ontology/item/digital'], name_fiaf['ontology/property/instance_of'], name_fiaf['ontology/item/carrier_type'])\n",
    "graph.add((name_fiaf['ontology/item/digital'], rdflib.RDFS.label, rdflib.Literal('Digital', lang='en')))\n",
    "\n",
    "make_claim(name_fiaf['ontology/item/disc'], name_fiaf['ontology/property/instance_of'], name_fiaf['ontology/item/carrier_type'])\n",
    "graph.add((name_fiaf['ontology/item/disc'], rdflib.RDFS.label, rdflib.Literal('Disc', lang='en')))\n",
    "\n",
    "print(len(graph))\n"
   ]
  },
  {
   "cell_type": "code",
   "execution_count": 14,
   "metadata": {},
   "outputs": [
    {
     "name": "stdout",
     "output_type": "stream",
     "text": [
      "221\n"
     ]
    }
   ],
   "source": [
    "\n",
    "# item specific carrier\n",
    "\n",
    "graph.add((name_fiaf['ontology/property/specific_carrier'], rdflib.RDFS.label, rdflib.Literal('specific carrier', lang='en'))) # property\n",
    "graph.add((name_fiaf['ontology/item/specific_carrier_type'], rdflib.RDFS.label, rdflib.Literal('Specific Carrier Type', lang='en'))) # item\n",
    "\n",
    "make_claim(name_fiaf['ontology/item/16mm'], name_fiaf['ontology/property/instance_of'], name_fiaf['ontology/item/specific_carrier_type'])\n",
    "graph.add((name_fiaf['ontology/item/16mm'], rdflib.RDFS.label, rdflib.Literal('16mm', lang='en')))\n",
    "\n",
    "make_claim(name_fiaf['ontology/item/35mm'], name_fiaf['ontology/property/instance_of'], name_fiaf['ontology/item/specific_carrier_type'])\n",
    "graph.add((name_fiaf['ontology/item/35mm'], rdflib.RDFS.label, rdflib.Literal('35mm', lang='en')))\n",
    "\n",
    "make_claim(name_fiaf['ontology/item/9mm'], name_fiaf['ontology/property/instance_of'], name_fiaf['ontology/item/specific_carrier_type'])\n",
    "graph.add((name_fiaf['ontology/item/9mm'], rdflib.RDFS.label, rdflib.Literal('9.5mm', lang='en')))\n",
    "\n",
    "make_claim(name_fiaf['ontology/item/quarter-inch'], name_fiaf['ontology/property/instance_of'], name_fiaf['ontology/item/specific_carrier_type'])\n",
    "graph.add((name_fiaf['ontology/item/quarter-inch'], rdflib.RDFS.label, rdflib.Literal('1/4-inch', lang='en')))\n",
    "\n",
    "make_claim(name_fiaf['ontology/item/digibeta'], name_fiaf['ontology/property/instance_of'], name_fiaf['ontology/item/specific_carrier_type'])\n",
    "graph.add((name_fiaf['ontology/item/digibeta'], rdflib.RDFS.label, rdflib.Literal('Digibeta', lang='en')))\n",
    "\n",
    "make_claim(name_fiaf['ontology/item/vhs'], name_fiaf['ontology/property/instance_of'], name_fiaf['ontology/item/specific_carrier_type'])\n",
    "graph.add((name_fiaf['ontology/item/vhs'], rdflib.RDFS.label, rdflib.Literal('VHS', lang='en')))\n",
    "\n",
    "make_claim(name_fiaf['ontology/item/umatic'], name_fiaf['ontology/property/instance_of'], name_fiaf['ontology/item/specific_carrier_type'])\n",
    "graph.add((name_fiaf['ontology/item/umatic'], rdflib.RDFS.label, rdflib.Literal('U-matic', lang='en')))\n",
    "\n",
    "make_claim(name_fiaf['ontology/item/hdcam'], name_fiaf['ontology/property/instance_of'], name_fiaf['ontology/item/specific_carrier_type'])\n",
    "graph.add((name_fiaf['ontology/item/hdcam'], rdflib.RDFS.label, rdflib.Literal('HDcam', lang='en')))\n",
    "\n",
    "make_claim(name_fiaf['ontology/item/hi8'], name_fiaf['ontology/property/instance_of'], name_fiaf['ontology/item/specific_carrier_type'])\n",
    "graph.add((name_fiaf['ontology/item/hi8'], rdflib.RDFS.label, rdflib.Literal('Hi8', lang='en')))\n",
    "\n",
    "make_claim(name_fiaf['ontology/item/d2'], name_fiaf['ontology/property/instance_of'], name_fiaf['ontology/item/specific_carrier_type'])\n",
    "graph.add((name_fiaf['ontology/item/d2'], rdflib.RDFS.label, rdflib.Literal('D2', lang='en')))\n",
    "\n",
    "make_claim(name_fiaf['ontology/item/d5'], name_fiaf['ontology/property/instance_of'], name_fiaf['ontology/item/specific_carrier_type'])\n",
    "graph.add((name_fiaf['ontology/item/d5'], rdflib.RDFS.label, rdflib.Literal('D5', lang='en')))\n",
    "\n",
    "make_claim(name_fiaf['ontology/item/betamax'], name_fiaf['ontology/property/instance_of'], name_fiaf['ontology/item/specific_carrier_type'])\n",
    "graph.add((name_fiaf['ontology/item/betamax'], rdflib.RDFS.label, rdflib.Literal('Betamax', lang='en')))\n",
    "\n",
    "make_claim(name_fiaf['ontology/item/betacamsp'], name_fiaf['ontology/property/instance_of'], name_fiaf['ontology/item/specific_carrier_type'])\n",
    "graph.add((name_fiaf['ontology/item/betacamsp'], rdflib.RDFS.label, rdflib.Literal('Betacam SP', lang='en')))\n",
    "\n",
    "make_claim(name_fiaf['ontology/item/dvd'], name_fiaf['ontology/property/instance_of'], name_fiaf['ontology/item/specific_carrier_type'])\n",
    "graph.add((name_fiaf['ontology/item/dvd'], rdflib.RDFS.label, rdflib.Literal('DVD', lang='en')))\n",
    "\n",
    "make_claim(name_fiaf['ontology/item/mxf'], name_fiaf['ontology/property/instance_of'], name_fiaf['ontology/item/specific_carrier_type'])\n",
    "graph.add((name_fiaf['ontology/item/mxf'], rdflib.RDFS.label, rdflib.Literal('MXF', lang='en')))\n",
    "\n",
    "print(len(graph))\n"
   ]
  },
  {
   "cell_type": "code",
   "execution_count": 15,
   "metadata": {},
   "outputs": [
    {
     "name": "stdout",
     "output_type": "stream",
     "text": [
      "256\n"
     ]
    }
   ],
   "source": [
    "\n",
    "# item element\n",
    "\n",
    "graph.add((name_fiaf['ontology/property/element'], rdflib.RDFS.label, rdflib.Literal('element', lang='en'))) # property\n",
    "graph.add((name_fiaf['ontology/item/element_type'], rdflib.RDFS.label, rdflib.Literal('Element Type', lang='en'))) # item\n",
    "\n",
    "make_claim(name_fiaf['ontology/item/print'], name_fiaf['ontology/property/instance_of'], name_fiaf['ontology/item/element_type'])\n",
    "graph.add((name_fiaf['ontology/item/print'], rdflib.RDFS.label, rdflib.Literal('Print', lang='en')))\n",
    "\n",
    "make_claim(name_fiaf['ontology/item/duplicate_negative'], name_fiaf['ontology/property/instance_of'], name_fiaf['ontology/item/element_type'])\n",
    "graph.add((name_fiaf['ontology/item/duplicate_negative'], rdflib.RDFS.label, rdflib.Literal('Duplicate Negative', lang='en')))\n",
    "\n",
    "make_claim(name_fiaf['ontology/item/duplicate_positive'], name_fiaf['ontology/property/instance_of'], name_fiaf['ontology/item/element_type'])\n",
    "graph.add((name_fiaf['ontology/item/duplicate_positive'], rdflib.RDFS.label, rdflib.Literal('Duplicate Positive', lang='en')))\n",
    "\n",
    "make_claim(name_fiaf['ontology/item/negative'], name_fiaf['ontology/property/instance_of'], name_fiaf['ontology/item/element_type'])\n",
    "graph.add((name_fiaf['ontology/item/negative'], rdflib.RDFS.label, rdflib.Literal('Negative', lang='en')))\n",
    "\n",
    "make_claim(name_fiaf['ontology/item/duplicate_reversal'], name_fiaf['ontology/property/instance_of'], name_fiaf['ontology/item/element_type'])\n",
    "graph.add((name_fiaf['ontology/item/duplicate_reversal'], rdflib.RDFS.label, rdflib.Literal('Duplicate reversal', lang='en')))\n",
    "\n",
    "make_claim(name_fiaf['ontology/item/track_negative'], name_fiaf['ontology/property/instance_of'], name_fiaf['ontology/item/element_type'])\n",
    "graph.add((name_fiaf['ontology/item/track_negative'], rdflib.RDFS.label, rdflib.Literal('Track negative', lang='en')))\n",
    "\n",
    "make_claim(name_fiaf['ontology/item/fine_grain_master'], name_fiaf['ontology/property/instance_of'], name_fiaf['ontology/item/element_type'])\n",
    "graph.add((name_fiaf['ontology/item/fine_grain_master'], rdflib.RDFS.label, rdflib.Literal('Fine grain master', lang='en')))\n",
    "\n",
    "make_claim(name_fiaf['ontology/item/magnetic_track'], name_fiaf['ontology/property/instance_of'], name_fiaf['ontology/item/element_type'])\n",
    "graph.add((name_fiaf['ontology/item/magnetic_track'], rdflib.RDFS.label, rdflib.Literal('Magnetic track', lang='en')))\n",
    "\n",
    "make_claim(name_fiaf['ontology/item/sound_negative'], name_fiaf['ontology/property/instance_of'], name_fiaf['ontology/item/element_type'])\n",
    "graph.add((name_fiaf['ontology/item/sound_negative'], rdflib.RDFS.label, rdflib.Literal('Sound Negative', lang='en')))\n",
    "\n",
    "make_claim(name_fiaf['ontology/item/original_negative'], name_fiaf['ontology/property/instance_of'], name_fiaf['ontology/item/element_type'])\n",
    "graph.add((name_fiaf['ontology/item/original_negative'], rdflib.RDFS.label, rdflib.Literal('Original Negative', lang='en')))\n",
    "\n",
    "make_claim(name_fiaf['ontology/item/work_print'], name_fiaf['ontology/property/instance_of'], name_fiaf['ontology/item/element_type'])\n",
    "graph.add((name_fiaf['ontology/item/work_print'], rdflib.RDFS.label, rdflib.Literal('Work Print', lang='en')))\n",
    "\n",
    "print(len(graph))\n"
   ]
  },
  {
   "cell_type": "code",
   "execution_count": 16,
   "metadata": {},
   "outputs": [
    {
     "name": "stdout",
     "output_type": "stream",
     "text": [
      "270\n"
     ]
    }
   ],
   "source": [
    "\n",
    "# item base\n",
    "\n",
    "graph.add((name_fiaf['ontology/property/base'], rdflib.RDFS.label, rdflib.Literal('base', lang='en'))) # property\n",
    "graph.add((name_fiaf['ontology/item/base_type'], rdflib.RDFS.label, rdflib.Literal('Base Type', lang='en'))) # item\n",
    "\n",
    "make_claim(name_fiaf['ontology/item/acetate'], name_fiaf['ontology/property/instance_of'], name_fiaf['ontology/item/base_type'])\n",
    "graph.add((name_fiaf['ontology/item/acetate'], rdflib.RDFS.label, rdflib.Literal('Acetate', lang='en')))\n",
    "\n",
    "make_claim(name_fiaf['ontology/item/polyester'], name_fiaf['ontology/property/instance_of'], name_fiaf['ontology/item/base_type'])\n",
    "graph.add((name_fiaf['ontology/item/polyester'], rdflib.RDFS.label, rdflib.Literal('Polyester', lang='en')))\n",
    "\n",
    "make_claim(name_fiaf['ontology/item/diacetate'], name_fiaf['ontology/property/instance_of'], name_fiaf['ontology/item/base_type'])\n",
    "graph.add((name_fiaf['ontology/item/diacetate'], rdflib.RDFS.label, rdflib.Literal('Diacetate', lang='en')))\n",
    "\n",
    "make_claim(name_fiaf['ontology/item/nitrate'], name_fiaf['ontology/property/instance_of'], name_fiaf['ontology/item/base_type'])\n",
    "graph.add((name_fiaf['ontology/item/nitrate'], rdflib.RDFS.label, rdflib.Literal('Nitrate', lang='en')))\n",
    "\n",
    "print(len(graph))\n"
   ]
  },
  {
   "cell_type": "code",
   "execution_count": 17,
   "metadata": {},
   "outputs": [
    {
     "name": "stdout",
     "output_type": "stream",
     "text": [
      "284\n"
     ]
    }
   ],
   "source": [
    "\n",
    "# item colour\n",
    "\n",
    "graph.add((name_fiaf['ontology/property/colour'], rdflib.RDFS.label, rdflib.Literal('colour', lang='en'))) # property\n",
    "graph.add((name_fiaf['ontology/item/colour_type'], rdflib.RDFS.label, rdflib.Literal('Colour Type', lang='en'))) # item\n",
    "\n",
    "make_claim(name_fiaf['ontology/item/black_and_white'], name_fiaf['ontology/property/instance_of'], name_fiaf['ontology/item/colour_type'])\n",
    "graph.add((name_fiaf['ontology/item/black_and_white'], rdflib.RDFS.label, rdflib.Literal('Black and White', lang='en')))\n",
    "\n",
    "make_claim(name_fiaf['ontology/item/colour'], name_fiaf['ontology/property/instance_of'], name_fiaf['ontology/item/colour_type'])\n",
    "graph.add((name_fiaf['ontology/item/colour'], rdflib.RDFS.label, rdflib.Literal('Colour', lang='en')))\n",
    "\n",
    "make_claim(name_fiaf['ontology/item/black_and_white_and_colour'], name_fiaf['ontology/property/instance_of'], name_fiaf['ontology/item/colour_type'])\n",
    "graph.add((name_fiaf['ontology/item/black_and_white_and_colour'], rdflib.RDFS.label, rdflib.Literal('(Black and White) and Colour', lang='en')))\n",
    "\n",
    "make_claim(name_fiaf['ontology/item/tinted'], name_fiaf['ontology/property/instance_of'], name_fiaf['ontology/item/colour_type'])\n",
    "graph.add((name_fiaf['ontology/item/tinted'], rdflib.RDFS.label, rdflib.Literal('Tinted', lang='en')))\n",
    "\n",
    "\n",
    "print(len(graph))\n"
   ]
  },
  {
   "cell_type": "code",
   "execution_count": 18,
   "metadata": {},
   "outputs": [
    {
     "name": "stdout",
     "output_type": "stream",
     "text": [
      "292\n"
     ]
    }
   ],
   "source": [
    "\n",
    "# item sound\n",
    "\n",
    "graph.add((name_fiaf['ontology/property/sound'], rdflib.RDFS.label, rdflib.Literal('sound', lang='en'))) # property\n",
    "graph.add((name_fiaf['ontology/item/sound_type'], rdflib.RDFS.label, rdflib.Literal('Sound Type', lang='en'))) # item\n",
    "\n",
    "make_claim(name_fiaf['ontology/item/silent'], name_fiaf['ontology/property/instance_of'], name_fiaf['ontology/item/sound_type'])\n",
    "graph.add((name_fiaf['ontology/item/silent'], rdflib.RDFS.label, rdflib.Literal('Silent', lang='en')))\n",
    "\n",
    "make_claim(name_fiaf['ontology/item/sound'], name_fiaf['ontology/property/instance_of'], name_fiaf['ontology/item/sound_type'])\n",
    "graph.add((name_fiaf['ontology/item/sound'], rdflib.RDFS.label, rdflib.Literal('Sound', lang='en')))\n",
    "\n",
    "print(len(graph))\n"
   ]
  },
  {
   "cell_type": "code",
   "execution_count": 19,
   "metadata": {},
   "outputs": [
    {
     "name": "stdout",
     "output_type": "stream",
     "text": [
      "303\n"
     ]
    }
   ],
   "source": [
    "\n",
    "# item sound format\n",
    "\n",
    "graph.add((name_fiaf['ontology/property/sound_format'], rdflib.RDFS.label, rdflib.Literal('sound format', lang='en'))) # property\n",
    "graph.add((name_fiaf['ontology/item/sound_format_type'], rdflib.RDFS.label, rdflib.Literal('Sound Format Type', lang='en'))) # item\n",
    "\n",
    "make_claim(name_fiaf['ontology/item/optical'], name_fiaf['ontology/property/instance_of'], name_fiaf['ontology/item/sound_format_type'])\n",
    "graph.add((name_fiaf['ontology/item/optical'], rdflib.RDFS.label, rdflib.Literal('Optical', lang='en')))\n",
    "\n",
    "make_claim(name_fiaf['ontology/item/magnetic'], name_fiaf['ontology/property/instance_of'], name_fiaf['ontology/item/sound_format_type'])\n",
    "graph.add((name_fiaf['ontology/item/magnetic'], rdflib.RDFS.label, rdflib.Literal('Magnetic', lang='en')))\n",
    "\n",
    "make_claim(name_fiaf['ontology/item/analogue'], name_fiaf['ontology/property/instance_of'], name_fiaf['ontology/item/sound_format_type'])\n",
    "graph.add((name_fiaf['ontology/item/analogue'], rdflib.RDFS.label, rdflib.Literal('Analogue', lang='en')))\n",
    "\n",
    "print(len(graph))\n"
   ]
  },
  {
   "cell_type": "code",
   "execution_count": 20,
   "metadata": {},
   "outputs": [
    {
     "name": "stdout",
     "output_type": "stream",
     "text": [
      "318\n"
     ]
    }
   ],
   "source": [
    "\n",
    "# item languages\n",
    "\n",
    "graph.add((name_fiaf['ontology/property/intertitles_language'], rdflib.RDFS.label, rdflib.Literal('intertitles language', lang='en'))) # property\n",
    "graph.add((name_fiaf['ontology/property/maintitles_language'], rdflib.RDFS.label, rdflib.Literal('maintitles language', lang='en'))) # property\n",
    "graph.add((name_fiaf['ontology/item/language'], rdflib.RDFS.label, rdflib.Literal('Language', lang='en'))) # item\n",
    "\n",
    "make_claim(name_fiaf['ontology/item/english'], name_fiaf['ontology/property/instance_of'], name_fiaf['ontology/item/language'])\n",
    "graph.add((name_fiaf['ontology/item/english'], rdflib.RDFS.label, rdflib.Literal('English', lang='en')))\n",
    "\n",
    "make_claim(name_fiaf['ontology/item/german'], name_fiaf['ontology/property/instance_of'], name_fiaf['ontology/item/language'])\n",
    "graph.add((name_fiaf['ontology/item/german'], rdflib.RDFS.label, rdflib.Literal('German', lang='en')))\n",
    "\n",
    "make_claim(name_fiaf['ontology/item/french'], name_fiaf['ontology/property/instance_of'], name_fiaf['ontology/item/language'])\n",
    "graph.add((name_fiaf['ontology/item/french'], rdflib.RDFS.label, rdflib.Literal('French', lang='en')))\n",
    "\n",
    "make_claim(name_fiaf['ontology/item/dutch'], name_fiaf['ontology/property/instance_of'], name_fiaf['ontology/item/language'])\n",
    "graph.add((name_fiaf['ontology/item/dutch'], rdflib.RDFS.label, rdflib.Literal('Dutch', lang='en')))\n",
    "\n",
    "print(len(graph))\n"
   ]
  },
  {
   "cell_type": "code",
   "execution_count": 21,
   "metadata": {},
   "outputs": [
    {
     "name": "stdout",
     "output_type": "stream",
     "text": [
      "321\n"
     ]
    }
   ],
   "source": [
    "\n",
    "# item extent\n",
    "\n",
    "graph.add((name_fiaf['ontology/property/extent_feet'], rdflib.RDFS.label, rdflib.Literal('extent (feet)', lang='en'))) \n",
    "graph.add((name_fiaf['ontology/property/extent_metres'], rdflib.RDFS.label, rdflib.Literal('extent (metres)', lang='en'))) \n",
    "graph.add((name_fiaf['ontology/property/duration'], rdflib.RDFS.label, rdflib.Literal('duration (minutes)', lang='en'))) \n",
    "\n",
    "print(len(graph))\n"
   ]
  },
  {
   "cell_type": "code",
   "execution_count": 22,
   "metadata": {},
   "outputs": [
    {
     "name": "stdout",
     "output_type": "stream",
     "text": [
      "321\n"
     ]
    }
   ],
   "source": [
    "\n",
    "graph.serialize(destination=str(pathlib.Path.cwd() / 'ontology.ttl'), format=\"turtle\")\n",
    "print(len(graph))\n"
   ]
  }
 ],
 "metadata": {
  "kernelspec": {
   "display_name": "Python 3",
   "language": "python",
   "name": "python3"
  },
  "language_info": {
   "codemirror_mode": {
    "name": "ipython",
    "version": 3
   },
   "file_extension": ".py",
   "mimetype": "text/x-python",
   "name": "python",
   "nbconvert_exporter": "python",
   "pygments_lexer": "ipython3",
   "version": "3.8.2"
  }
 },
 "nbformat": 4,
 "nbformat_minor": 4
}
