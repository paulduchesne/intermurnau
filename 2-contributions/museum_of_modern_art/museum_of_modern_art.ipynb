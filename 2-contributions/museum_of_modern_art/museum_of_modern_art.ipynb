{
 "cells": [
  {
   "cell_type": "code",
   "execution_count": 1,
   "metadata": {},
   "outputs": [],
   "source": [
    "\n",
    "# museum of modern art\n"
   ]
  },
  {
   "cell_type": "code",
   "execution_count": 2,
   "metadata": {},
   "outputs": [],
   "source": [
    "\n",
    "# import libraries\n",
    "\n",
    "import rdflib, pandas, pathlib, json\n",
    "import numpy, uuid, xmltodict, pydash\n"
   ]
  },
  {
   "cell_type": "code",
   "execution_count": 3,
   "metadata": {},
   "outputs": [],
   "source": [
    "\n",
    "# define graph and namespace\n",
    "\n",
    "graph = rdflib.Graph()\n",
    "name_moma = rdflib.Namespace('https://www.moma.org/') \n",
    "name_wb = rdflib.Namespace('http://wikibas.se/ontology')\n",
    "name_fiaf = rdflib.Namespace('https://www.fiafnet.org/')\n"
   ]
  },
  {
   "cell_type": "code",
   "execution_count": 4,
   "metadata": {},
   "outputs": [],
   "source": [
    "\n",
    "# useful functions\n",
    "\n",
    "def make_claim(s, p, o):        \n",
    "    claim_id = name_moma[f\"resource/claim/{uuid.uuid4()}\"]    \n",
    "    graph.add((s, name_wb['#claim'], claim_id))\n",
    "    graph.add((claim_id, p, o))\n",
    "    return claim_id\n",
    "\n",
    "def make_qual(s, p, o):\n",
    "    qual_id = name_moma[f\"resource/qualifier/{uuid.uuid4()}\"]       \n",
    "    graph.add((s, name_wb['#qualifier'], qual_id))\n",
    "    graph.add((qual_id, p, o))\n",
    "    return qual_id\n",
    "\n",
    "def reference(claim_id, institute):\n",
    "    ref_id = name_moma[f\"resource/reference/{uuid.uuid4()}\"]\n",
    "    graph.add((claim_id, name_wb['#reference'], ref_id))\n",
    "    graph.add((ref_id, name_fiaf['ontology/property/contributed_by'], institute)) \n",
    "\n",
    "def single_list(data):  \n",
    "    if isinstance(data, list):\n",
    "        return data\n",
    "    else:\n",
    "        return [data]     \n"
   ]
  },
  {
   "cell_type": "code",
   "execution_count": 5,
   "metadata": {},
   "outputs": [
    {
     "name": "stdout",
     "output_type": "stream",
     "text": [
      "5\n"
     ]
    }
   ],
   "source": [
    "\n",
    "# define institution\n",
    "\n",
    "graph.add((name_moma['ontology/item/moma'], rdflib.RDFS.label, rdflib.Literal('Museum of Modern Art', lang='en'))) \n",
    "make_claim(name_moma['ontology/item/moma'], name_fiaf['ontology/property/instance_of'], name_fiaf['ontology/item/holding_institution'])\n",
    "make_claim(name_moma['ontology/item/moma'], name_fiaf['ontology/property/located_in'], name_fiaf['ontology/item/usa'])\n",
    "\n",
    "print(len(graph)) \n"
   ]
  },
  {
   "cell_type": "code",
   "execution_count": 6,
   "metadata": {},
   "outputs": [
    {
     "name": "stdout",
     "output_type": "stream",
     "text": [
      "5\n"
     ]
    }
   ],
   "source": [
    "\n",
    "# format data\n",
    "\n",
    "path = pathlib.Path.home() / 'murnau-data' / 'museum_of_modern_art'\n",
    "\n",
    "data_work = pandas.read_excel(path / 'Murnau export.xlsx', sheet_name='WV Export').to_dict(orient='records')\n",
    "data_item = pandas.read_excel(path / 'Murnau export.xlsx', sheet_name='MI Export').to_dict(orient='records')\n",
    "\n",
    "print(len(graph))\n"
   ]
  },
  {
   "cell_type": "code",
   "execution_count": 7,
   "metadata": {},
   "outputs": [
    {
     "name": "stdout",
     "output_type": "stream",
     "text": [
      "69\n"
     ]
    }
   ],
   "source": [
    "\n",
    "# write work \n",
    "\n",
    "work_list = list()\n",
    "for x in data_work:\n",
    "    work_dict = dict()\n",
    "    for k, v in x.items():\n",
    "        if k in ['ObjectNumber', 'Work Title', 'Production']:\n",
    "            work_dict[k] = v\n",
    "    work_list.append(work_dict)            \n",
    "\n",
    "for x in pydash.uniq(work_list):\n",
    "    \n",
    "    work_id = x['ObjectNumber']\n",
    "    work = name_moma[f\"resource/work/{work_id}\"]\n",
    "\n",
    "    make_claim(work, name_fiaf['ontology/property/instance_of'], name_fiaf['ontology/item/work'])\n",
    "    claim1 = make_claim(work, name_fiaf['ontology/property/external_id'], rdflib.Literal(work_id))\n",
    "    make_qual(claim1, name_fiaf['ontology/property/institution'], name_moma['ontology/item/moma'])\n",
    "    reference(claim1, name_moma['ontology/item/moma'])     \n",
    "\n",
    "print(len(graph))\n"
   ]
  },
  {
   "cell_type": "code",
   "execution_count": 8,
   "metadata": {},
   "outputs": [
    {
     "name": "stdout",
     "output_type": "stream",
     "text": [
      "117\n"
     ]
    }
   ],
   "source": [
    "\n",
    "# write title\n",
    "\n",
    "for x in pydash.uniq(work_list):    \n",
    "   \n",
    "    work_id = x['ObjectNumber']\n",
    "    work = name_moma[f\"resource/work/{work_id}\"]\n",
    "\n",
    "    claim1 = make_claim(work, name_fiaf['ontology/property/title'], rdflib.Literal(x['Work Title']))\n",
    "    make_qual(claim1, name_fiaf['ontology/property/title_type'], name_fiaf['ontology/item/work_title'])\n",
    "    reference(claim1, name_moma['ontology/item/moma'])    \n",
    "\n",
    "print(len(graph))\n"
   ]
  },
  {
   "cell_type": "code",
   "execution_count": 9,
   "metadata": {},
   "outputs": [
    {
     "name": "stdout",
     "output_type": "stream",
     "text": [
      "149\n"
     ]
    }
   ],
   "source": [
    "\n",
    "# write country\n",
    "\n",
    "for x in pydash.uniq(work_list):    \n",
    "   \n",
    "    work_id = x['ObjectNumber']\n",
    "    work = name_moma[f\"resource/work/{work_id}\"]\n",
    "    \n",
    "    country = x['Production']\n",
    "    if country == 'United States':\n",
    "        fiaf_country = name_fiaf['ontology/item/usa']\n",
    "    elif country == 'Germany':\n",
    "        fiaf_country = name_fiaf['ontology/item/germany']\n",
    "    else:\n",
    "        raise Exception('Unknown country.')\n",
    "        \n",
    "    claim = make_claim(work, name_fiaf['ontology/property/production_country'], fiaf_country)  \n",
    "    reference(claim, name_moma['ontology/item/moma'])     \n",
    "    \n",
    "print(len(graph)) \n"
   ]
  },
  {
   "cell_type": "code",
   "execution_count": 10,
   "metadata": {},
   "outputs": [
    {
     "name": "stdout",
     "output_type": "stream",
     "text": [
      "3179\n"
     ]
    }
   ],
   "source": [
    "\n",
    "# write agent\n",
    "\n",
    "agent_list = list()\n",
    "for x in data_work:\n",
    "    agent_dict = dict()\n",
    "    for k, v in x.items():\n",
    "        if k in ['ObjectNumber', 'ConstituentID', 'DisplayName', 'Role']:\n",
    "            agent_dict[k] = v\n",
    "    agent_list.append(agent_dict) \n",
    "    \n",
    "def write_credit(contribution, agent_type):    \n",
    "    filtered_agent = [x for x in agent_list if x['Role'] == contribution]\n",
    "    for a in filtered_agent:\n",
    "    \n",
    "        work_id = a['ObjectNumber']\n",
    "        work = name_moma[f\"resource/work/{work_id}\"]\n",
    "        agent = name_moma[f\"resource/agent/{a['ConstituentID']}\"]\n",
    "        \n",
    "        name = a['DisplayName'].split(' ')\n",
    "        \n",
    "        surname = name[-1]\n",
    "        if len(name) > 1:\n",
    "            firstname = ' '.join(name[:-1])\n",
    "        else:\n",
    "            firstname = ''\n",
    "        \n",
    "        claim1 = make_claim(work, name_fiaf['ontology/property/agent'], agent)\n",
    "        make_qual(claim1, name_fiaf['ontology/property/agent_type'], agent_type)                \n",
    "        reference(claim1, name_moma['ontology/item/moma'])   \n",
    "        \n",
    "        make_claim(agent, name_fiaf['ontology/property/instance_of'], name_fiaf['ontology/item/agent']) \n",
    "\n",
    "        claim2 = make_claim(agent, name_fiaf['ontology/property/external_id'], rdflib.Literal(a['ConstituentID']))\n",
    "        make_qual(claim2, name_fiaf['ontology/property/institution'], name_moma['ontology/item/moma'])\n",
    "        reference(claim2, name_moma['ontology/item/moma'])  \n",
    "            \n",
    "        if firstname != '':\n",
    "            claim3 = make_claim(agent, name_fiaf['ontology/property/forename'], rdflib.Literal(firstname))\n",
    "            reference(claim3, name_moma['ontology/item/moma'])  \n",
    "        if surname != '':\n",
    "            claim4 = make_claim(agent, name_fiaf['ontology/property/surname'], rdflib.Literal(surname))\n",
    "            reference(claim4, name_moma['ontology/item/moma'])              \n",
    "\n",
    "        claim9 = make_claim(agent, name_fiaf['ontology/property/work'], work)    \n",
    "        reference(claim9, name_moma['ontology/item/moma'])         \n",
    "        \n",
    "write_credit('Cast Index', name_fiaf['ontology/item/cast'])\n",
    "write_credit('Director', name_fiaf['ontology/item/director'])\n",
    "write_credit('Producer', name_fiaf['ontology/item/producer'])   \n",
    "write_credit('Director of Photography', name_fiaf['ontology/item/cinematographer'])   \n",
    "write_credit('Writer', name_fiaf['ontology/item/screenwriter'])  \n",
    "write_credit('Editor', name_fiaf['ontology/item/editor'])  \n",
    "write_credit('Composer', name_fiaf['ontology/item/composer'])      \n",
    "        \n",
    "print(len(graph))    \n"
   ]
  },
  {
   "cell_type": "code",
   "execution_count": 11,
   "metadata": {},
   "outputs": [
    {
     "name": "stdout",
     "output_type": "stream",
     "text": [
      "7669\n"
     ]
    }
   ],
   "source": [
    "\n",
    "# write manifestation/item\n",
    "\n",
    "def process_claim(i, p, s, t):\n",
    "    for k, v in t.items():\n",
    "        if s == k:\n",
    "            claim_id = make_claim(i, p, v)   \n",
    "            reference(claim_id, name_moma['ontology/item/moma'])         \n",
    "\n",
    "for x in pydash.uniq([x['ObjectID'] for x in data_item]):\n",
    "    \n",
    "    object_data = [y for y in data_item if x == y['ObjectID']]\n",
    "\n",
    "    work_id = str([y['ObjectNumber'] for y in object_data][0]).split('.')[0]  \n",
    "    work = name_moma[f\"resource/work/{work_id}\"]\n",
    "    \n",
    "    manifestation = name_moma[f\"resource/manifestation/{uuid.uuid4()}\"]\n",
    "    make_claim(manifestation, name_fiaf['ontology/property/instance_of'], name_fiaf['ontology/item/manifestation'])\n",
    "    make_claim(manifestation, name_fiaf['ontology/property/manifestation_of'], work)    \n",
    "    \n",
    "    item_id = x\n",
    "    item = name_moma[f\"resource/item/{item_id}\"]   \n",
    "\n",
    "    make_claim(item, name_fiaf['ontology/property/instance_of'], name_fiaf['ontology/item/item'])        \n",
    "    make_claim(item, name_fiaf['ontology/property/item_of'], manifestation)  \n",
    "\n",
    "    claim1 = make_claim(item, name_fiaf['ontology/property/held_at'], name_moma['ontology/item/moma'])\n",
    "    reference(claim1, name_moma['ontology/item/moma'])          \n",
    "\n",
    "    claim2 = make_claim(item, name_fiaf['ontology/property/external_id'], rdflib.Literal(item_id))\n",
    "    make_qual(claim2, name_fiaf['ontology/property/institution'], name_moma['ontology/item/moma'])\n",
    "    reference(claim2, name_moma['ontology/item/moma'])   \n",
    "    \n",
    "    # ~\n",
    "\n",
    "    base = [y['Term'] for y in object_data if y['ThesXrefType'] == 'Base']\n",
    "    if base:   \n",
    "        base_tr = {'Acetate': name_fiaf['ontology/item/acetate'], 'Polyester': name_fiaf['ontology/item/polyester'], \n",
    "                   'Diacetate': name_fiaf['ontology/item/diacetate'], 'Nitrate': name_fiaf['ontology/item/nitrate']}\n",
    "        process_claim(item, name_fiaf['ontology/property/base'], base[0], base_tr)\n",
    "        \n",
    "    # ~\n",
    "    \n",
    "    colour = [y['Term'] for y in object_data if y['ThesXrefType'] == 'Color Type']\n",
    "    if colour:\n",
    "        colour_tr = {'Black and white': name_fiaf['ontology/item/black_and_white']}\n",
    "        process_claim(item, name_fiaf['ontology/property/colour'], colour[0], colour_tr)    \n",
    "        \n",
    "    # ~        \n",
    "        \n",
    "    element = [y['Term'] for y in object_data if y['ThesXrefType'] == 'Element Type']\n",
    "    if element:\n",
    "        element_tr = {'Print': name_fiaf['ontology/item/print'], 'Duplicate negative': name_fiaf['ontology/item/duplicate_negative'], \n",
    "                      'Negative': name_fiaf['ontology/item/negative'], 'Duplicate reversal': name_fiaf['ontology/item/duplicate_reversal'], \n",
    "                      'Track negative': name_fiaf['ontology/item/track_negative'], 'Fine grain master': name_fiaf['ontology/item/fine_grain_master'], \n",
    "                      'Magnetic track': name_fiaf['ontology/item/magnetic_track']}\n",
    "        process_claim(item, name_fiaf['ontology/property/element'], element[0], element_tr) \n",
    "        \n",
    "    # ~        \n",
    "        \n",
    "    general = [y['Term'] for y in object_data if y['ThesXrefType'] == 'General Carrier Type']\n",
    "    if general:\n",
    "        general_tr = {'Film': name_fiaf['ontology/item/film'], 'Sound Tape': name_fiaf['ontology/item/sound_tape']}\n",
    "        process_claim(item, name_fiaf['ontology/property/carrier'], general[0], general_tr)       \n",
    "        \n",
    "    # ~        \n",
    "        \n",
    "    access = [y['Term'] for y in object_data if y['ThesXrefType'] == 'Item Access Status']\n",
    "    if access:\n",
    "        access_tr = {'MoMA use only': name_fiaf['ontology/item/moma_only'],'Viewing': name_fiaf['ontology/item/viewing'],\n",
    "                     'Master': name_fiaf['ontology/item/master'],'Restricted': name_fiaf['ontology/item/restricted'],\n",
    "                     'Nitrate': name_fiaf['ontology/item/master'],'Lending': name_fiaf['ontology/item/lending']}\n",
    "        process_claim(item, name_fiaf['ontology/property/access'], access[0], access_tr)  \n",
    "        \n",
    "    # ~\n",
    "    \n",
    "    sound_format = [y['Term'] for y in object_data if y['ThesXrefType'] == 'Sound Fixation Type']\n",
    "    if sound_format:\n",
    "        sound_format_tr = {'Optical': name_fiaf['ontology/item/optical'], 'Magnetic': name_fiaf['ontology/item/magnetic'],\n",
    "                           'Analogue': name_fiaf['ontology/item/analogue']}\n",
    "        process_claim(item, name_fiaf['ontology/property/sound_format'], sound_format[0], sound_format_tr)  \n",
    "        \n",
    "    # ~\n",
    "    \n",
    "    sound = [y['Term'] for y in object_data if y['ThesXrefType'] == 'Sound Type']\n",
    "    if sound:\n",
    "        sound_tr = {'Silent': name_fiaf['ontology/item/silent'], 'Sound': name_fiaf['ontology/item/sound']}\n",
    "        process_claim(item, name_fiaf['ontology/property/sound'], sound[0], sound_tr)  \n",
    "               \n",
    "    # ~\n",
    "    \n",
    "    specific = [y['Term'] for y in object_data if y['ThesXrefType'] == 'Specific Carrier Type']\n",
    "    if specific:\n",
    "        specific_tr = {'16mm': name_fiaf['ontology/item/16mm'], '35mm': name_fiaf['ontology/item/35mm'],\n",
    "                       '¼” audioreel': name_fiaf['ontology/item/quarter-inch']}\n",
    "        process_claim(item, name_fiaf['ontology/property/specific_carrier'], specific[0], specific_tr)  \n",
    "             \n",
    "    # ~\n",
    "    \n",
    "    intertitle = [y['Term'] for y in object_data if y['ThesXrefType'] == 'Language Intertitles']\n",
    "    if intertitle:\n",
    "        intertitle_tr = {'English': name_fiaf['ontology/item/english'], 'German': name_fiaf['ontology/item/german'],\n",
    "                       'French': name_fiaf['ontology/item/french']}\n",
    "        process_claim(item, name_fiaf['ontology/property/intertitles_language'], intertitle[0], intertitle_tr)  \n",
    "             \n",
    "    # ~\n",
    "    \n",
    "    maintitle = [y['Term'] for y in object_data if y['ThesXrefType'] == 'Language Main Titles']\n",
    "    if maintitle:\n",
    "        maintitle_tr = {'English': name_fiaf['ontology/item/english'], 'German': name_fiaf['ontology/item/german'],\n",
    "                       'French': name_fiaf['ontology/item/french']}\n",
    "        process_claim(item, name_fiaf['ontology/property/maintitles_language'], maintitle[0], maintitle_tr)  \n",
    "                          \n",
    "    # ~\n",
    "\n",
    "    feet = [y['Dimension'] for y in object_data if y['UnitName'] == 'Feet']\n",
    "    if feet:\n",
    "        claim_id = make_claim(item, name_fiaf['ontology/property/extent_feet'], rdflib.Literal(feet[0]))\n",
    "        reference(claim_id, name_moma['ontology/item/moma'])        \n",
    "        \n",
    "    # ~        \n",
    "        \n",
    "    duration = {'h':0,'m':0,'s':0}   \n",
    "\n",
    "    hour = [y['Dimension'] for y in object_data if y['UnitName'] == 'Hours']\n",
    "    if hour:\n",
    "        duration['h'] = hour[0]    \n",
    "    minute = [y['Dimension'] for y in object_data if y['UnitName'] == 'Minutes']\n",
    "    if minute:\n",
    "        duration['m'] = minute[0]\n",
    "    second = [y['Dimension'] for y in object_data if y['UnitName'] == 'Seconds']\n",
    "    if second:\n",
    "        duration['s'] = second[0]\n",
    "\n",
    "    if duration != {'h':0,'m':0,'s':0}:\n",
    "        \n",
    "        h = str(int(duration['h'])).zfill(2)\n",
    "        m = str(int(duration['m'])).zfill(2)\n",
    "        s = str(int(duration['s'])).zfill(2)\n",
    "\n",
    "        dure = f'{h}:{m}:{s}'\n",
    "        \n",
    "        claim_id = make_claim(item, name_fiaf['ontology/property/duration'], rdflib.Literal(dure))\n",
    "        reference(claim_id, name_moma['ontology/item/moma'])        \n",
    "  \n",
    "    make_claim(work, name_fiaf['ontology/property/manifestation'], manifestation)\n",
    "    make_claim(manifestation, name_fiaf['ontology/property/item'], item)                  \n",
    "        \n",
    "print(len(graph))\n"
   ]
  },
  {
   "cell_type": "code",
   "execution_count": 12,
   "metadata": {},
   "outputs": [
    {
     "name": "stdout",
     "output_type": "stream",
     "text": [
      "7669\n"
     ]
    }
   ],
   "source": [
    "\n",
    "graph.serialize(destination=str(pathlib.Path.cwd() / 'museum_of_modern_art.ttl'), format=\"turtle\")\n",
    "print(len(graph))\n"
   ]
  }
 ],
 "metadata": {
  "kernelspec": {
   "display_name": "Python 3",
   "language": "python",
   "name": "python3"
  },
  "language_info": {
   "codemirror_mode": {
    "name": "ipython",
    "version": 3
   },
   "file_extension": ".py",
   "mimetype": "text/x-python",
   "name": "python",
   "nbconvert_exporter": "python",
   "pygments_lexer": "ipython3",
   "version": "3.8.2"
  }
 },
 "nbformat": 4,
 "nbformat_minor": 4
}
