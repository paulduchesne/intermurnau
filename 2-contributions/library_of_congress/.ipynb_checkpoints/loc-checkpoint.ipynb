{
 "cells": [
  {
   "cell_type": "code",
   "execution_count": 1,
   "metadata": {},
   "outputs": [],
   "source": [
    "\n",
    "# Library of Congress\n"
   ]
  },
  {
   "cell_type": "code",
   "execution_count": 2,
   "metadata": {},
   "outputs": [],
   "source": [
    "\n",
    "# import libraries\n",
    "\n",
    "import rdflib, pandas, pathlib, json\n",
    "import numpy, uuid, xmltodict, pydash\n"
   ]
  },
  {
   "cell_type": "code",
   "execution_count": 3,
   "metadata": {},
   "outputs": [],
   "source": [
    "\n",
    "# define graph and namespace\n",
    "\n",
    "graph = rdflib.Graph()\n",
    "name_loc = rdflib.Namespace('https://loc.gov/') \n",
    "name_wb = rdflib.Namespace('http://wikibas.se/ontology')\n",
    "name_fiaf = rdflib.Namespace('https://www.fiafnet.org/')\n"
   ]
  },
  {
   "cell_type": "code",
   "execution_count": 4,
   "metadata": {},
   "outputs": [],
   "source": [
    "\n",
    "# useful functions\n",
    "\n",
    "def make_claim(s, p, o):        \n",
    "    claim_id = name_loc[f\"resource/claim/{uuid.uuid4()}\"]    \n",
    "    graph.add((s, name_wb['#claim'], claim_id))\n",
    "    graph.add((claim_id, p, o))\n",
    "    return claim_id\n",
    "\n",
    "def make_qual(s, p, o):\n",
    "    qual_id = name_loc[f\"resource/qualifier/{uuid.uuid4()}\"]       \n",
    "    graph.add((s, name_wb['#qualifier'], qual_id))\n",
    "    graph.add((qual_id, p, o))\n",
    "    return qual_id\n",
    "\n",
    "def reference(claim_id, institute):\n",
    "    ref_id = name_loc[f\"resource/reference/{uuid.uuid4()}\"]\n",
    "    graph.add((claim_id, name_wb['#reference'], ref_id))\n",
    "    graph.add((ref_id, name_fiaf['ontology/property/contributed_by'], institute))  \n",
    "    \n",
    "def single_list(data):  \n",
    "    if isinstance(data, list):\n",
    "        return data\n",
    "    else:\n",
    "        return [data]    \n"
   ]
  },
  {
   "cell_type": "code",
   "execution_count": 5,
   "metadata": {},
   "outputs": [
    {
     "name": "stdout",
     "output_type": "stream",
     "text": [
      "5\n"
     ]
    }
   ],
   "source": [
    "\n",
    "# define institution\n",
    "\n",
    "graph.add((name_loc['ontology/item/loc'], rdflib.RDFS.label, rdflib.Literal('Library of Congress', lang='en'))) \n",
    "make_claim(name_loc['ontology/item/loc'], name_fiaf['ontology/property/instance_of'], name_fiaf['ontology/item/holding_institution'])\n",
    "make_claim(name_loc['ontology/item/loc'], name_fiaf['ontology/property/located_in'], name_fiaf['ontology/item/usa'])\n",
    "\n",
    "print(len(graph))\n"
   ]
  },
  {
   "cell_type": "code",
   "execution_count": 6,
   "metadata": {},
   "outputs": [
    {
     "name": "stdout",
     "output_type": "stream",
     "text": [
      "5\n"
     ]
    }
   ],
   "source": [
    "\n",
    "# format data\n",
    "\n",
    "data = list()\n",
    "for f in [x for x in pathlib.Path.cwd().glob('**/*.xml')]:   \n",
    "    with open(f,  encoding='ISO-8859-1') as xml_data:\n",
    "        element = xmltodict.parse(xml_data.read()) \n",
    "        data.append(single_list(pydash.get(element, 'mavis.TitleWork'))[0])\n",
    "        \n",
    "with open(pathlib.Path.cwd() / 'loc.json', 'w') as export:\n",
    "    json.dump(data, export)\n",
    "        \n",
    "print(len(graph)) \n"
   ]
  },
  {
   "cell_type": "code",
   "execution_count": 7,
   "metadata": {},
   "outputs": [
    {
     "name": "stdout",
     "output_type": "stream",
     "text": [
      "61\n"
     ]
    }
   ],
   "source": [
    "\n",
    "# write work \n",
    "\n",
    "for x in data:\n",
    "    \n",
    "    work_id = x['@xl:href'].split('/')[-1]\n",
    "    work = name_loc[f\"resource/work/{work_id}\"]\n",
    "\n",
    "    make_claim(work, name_fiaf['ontology/property/instance_of'], name_fiaf['ontology/item/work'])\n",
    "    claim_id = make_claim(work, name_fiaf['ontology/property/external_id'], rdflib.Literal(work_id))\n",
    "    make_qual(claim_id, name_fiaf['ontology/property/institution'], name_loc['ontology/item/loc'])\n",
    "    reference(claim_id, name_loc['ontology/item/loc'])     \n",
    "\n",
    "print(len(graph))\n"
   ]
  },
  {
   "cell_type": "code",
   "execution_count": 8,
   "metadata": {},
   "outputs": [
    {
     "name": "stdout",
     "output_type": "stream",
     "text": [
      "103\n"
     ]
    }
   ],
   "source": [
    "\n",
    "# write title\n",
    "\n",
    "for x in data:\n",
    "    \n",
    "    work_id = x['@xl:href'].split('/')[-1]\n",
    "    work = name_loc[f\"resource/work/{work_id}\"]\n",
    "\n",
    "    selected_title = ''\n",
    "    for t in ['preferredTitle.Title', 'alternateTitles.Title']:\n",
    "        for y in single_list(pydash.get(x, t)):  \n",
    "            if 'Original title' in str(y) or 'German' in str(y):\n",
    "                selected_title = pydash.get(y, '@xl:title')\n",
    "                title_type = name_fiaf['ontology/item/original_title'] \n",
    "\n",
    "    if selected_title == '':\n",
    "        selected_title = pydash.get(x, '@xl:title')\n",
    "        title_type = name_fiaf['ontology/item/work_title']  \n",
    "\n",
    "    claim_id = make_claim(work, name_fiaf['ontology/property/title'], rdflib.Literal(selected_title[:-1]))\n",
    "    make_qual(claim_id, name_fiaf['ontology/property/title_type'], title_type)\n",
    "    reference(claim_id, name_loc['ontology/item/loc'])    \n",
    "#     print(work_id, selected_title[:-1])\n",
    "\n",
    "print(len(graph))\n"
   ]
  },
  {
   "cell_type": "code",
   "execution_count": 9,
   "metadata": {},
   "outputs": [
    {
     "name": "stdout",
     "output_type": "stream",
     "text": [
      "131\n"
     ]
    }
   ],
   "source": [
    "\n",
    "# write country\n",
    "\n",
    "for x in data:\n",
    "    \n",
    "    work_id = x['@xl:href'].split('/')[-1]\n",
    "    work = name_loc[f\"resource/work/{work_id}\"]\n",
    "    \n",
    "    country = pydash.get(x, 'countries.WorkCountry.@xl:title')\n",
    "    if country == 'US':\n",
    "        fiaf_country = name_fiaf['ontology/item/usa']\n",
    "    elif country == 'GG':\n",
    "        fiaf_country = name_fiaf['ontology/item/germany']\n",
    "    else:\n",
    "        raise Exception('Unknown country.')\n",
    "        \n",
    "    claim = make_claim(work, name_fiaf['ontology/property/production_country'], fiaf_country)  \n",
    "    reference(claim, name_loc['ontology/item/loc'])     \n",
    "    \n",
    "print(len(graph))   \n"
   ]
  },
  {
   "cell_type": "code",
   "execution_count": 10,
   "metadata": {},
   "outputs": [
    {
     "name": "stdout",
     "output_type": "stream",
     "text": [
      "1179\n"
     ]
    }
   ],
   "source": [
    "\n",
    "# write agents\n",
    "\n",
    "def write_credit(work_data, dict_key, agent_type): \n",
    "    \n",
    "    work_id = x['@xl:href'].split('/')[-1]\n",
    "    work = name_loc[f\"resource/work/{work_id}\"]\n",
    "    \n",
    "    for a in pydash.get(x, 'roles.Name-Role'):\n",
    "        if 'Person' in pydash.get(a, 'party') and pydash.get(a, 'role.@xl:title') == dict_key:\n",
    "\n",
    "            forename = pydash.get(a, 'party.Person.preferredName.PersonName.firstName')\n",
    "            surname = pydash.get(a, 'party.Person.preferredName.PersonName.name')\n",
    "            contribution = pydash.get(a, 'role.@xl:title')\n",
    "            key = pydash.get(a, 'party.Person.@xl:href').split('/')[-1]\n",
    "            gend = pydash.get(a, 'party.Person.gender.@xl:title')\n",
    "            \n",
    "            agent = name_loc[f\"resource/agent/{key}\"]\n",
    "                 \n",
    "            claim1 = make_claim(work, name_fiaf['ontology/property/agent'], agent)\n",
    "            make_qual(claim1, name_fiaf['ontology/property/agent_type'], agent_type)                \n",
    "            reference(claim1, name_loc['ontology/item/loc']) \n",
    "            \n",
    "            make_claim(agent, name_fiaf['ontology/property/instance_of'], name_fiaf['ontology/item/agent']) \n",
    "\n",
    "            claim2 = make_claim(agent, name_fiaf['ontology/property/external_id'], rdflib.Literal(key))\n",
    "            make_qual(claim2, name_fiaf['ontology/property/institution'], name_loc['ontology/item/loc'])\n",
    "            reference(claim2, name_loc['ontology/item/loc'])  \n",
    "            \n",
    "            if forename != None:\n",
    "                claim3 = make_claim(agent, name_fiaf['ontology/property/forename'], rdflib.Literal(forename))\n",
    "                reference(claim3, name_loc['ontology/item/loc'])          \n",
    "\n",
    "            claim4 = make_claim(agent, name_fiaf['ontology/property/surname'], rdflib.Literal(surname))\n",
    "            reference(claim4, name_loc['ontology/item/loc'])  \n",
    "            \n",
    "            if gend == 'Male':\n",
    "                claim_id = make_claim(agent, name_fiaf['ontology/property/gender'], name_fiaf['ontology/item/male'])\n",
    "                reference(claim_id, name_loc['ontology/item/loc']) \n",
    "\n",
    "            if gend == 'Female':\n",
    "                claim_id = make_claim(agent, name_fiaf['ontology/property/gender'], name_fiaf['ontology/item/female'])\n",
    "                reference(claim_id, name_loc['ontology/item/loc']) \n",
    "\n",
    "            claim_id = make_claim(agent, name_fiaf['ontology/property/work'], work)    \n",
    "            reference(claim_id, name_loc['ontology/item/loc'])        \n",
    "\n",
    "for x in data:\n",
    "    write_credit(x, 'Cast/Actor', name_fiaf['ontology/item/cast'])\n",
    "    write_credit(x, 'Director', name_fiaf['ontology/item/director'])\n",
    "    write_credit(x, 'Producer', name_fiaf['ontology/item/producer'])   \n",
    "    write_credit(x, 'Cinematographer/Director of Photography', name_fiaf['ontology/item/cinematographer'])   \n",
    "    write_credit(x, 'Scriptwriter', name_fiaf['ontology/item/screenwriter'])  \n",
    "    write_credit(x, 'Music Composer', name_fiaf['ontology/item/composer'])      \n",
    "        \n",
    "print(len(graph))    \n"
   ]
  },
  {
   "cell_type": "code",
   "execution_count": 11,
   "metadata": {},
   "outputs": [
    {
     "name": "stdout",
     "output_type": "stream",
     "text": [
      "1195\n"
     ]
    }
   ],
   "source": [
    "\n",
    "# write events\n",
    "    \n",
    "for x in data:\n",
    "    \n",
    "    work_id = x['@xl:href'].split('/')[-1]\n",
    "    work = name_loc[f\"resource/work/{work_id}\"]\n",
    "    \n",
    "    date_data = pydash.get(x, 'objectDates.Date-Year')\n",
    "    for y in [a for a in single_list(date_data) if pydash.get(a, 'dateType.@xl:title') == 'Copyright']:\n",
    "        date = pydash.get(y, 'yearFrom')\n",
    "        date += f\"-{pydash.get(y, 'monthFrom').zfill(2)}\"\n",
    "        date += f\"-{pydash.get(y, 'dayFrom').zfill(2)}\"\n",
    "\n",
    "        claim_id = make_claim(work, name_fiaf['ontology/property/event'], rdflib.Literal(date))\n",
    "        make_qual(claim_id, name_fiaf['ontology/property/event_type'], name_fiaf['ontology/item/decision_copyright']) \n",
    "        make_qual(claim_id, name_fiaf['ontology/property/country'], name_fiaf['ontology/item/usa'])              \n",
    "        reference(claim_id, name_loc['ontology/item/loc']) \n",
    "        \n",
    "print(len(graph))        \n"
   ]
  },
  {
   "cell_type": "code",
   "execution_count": 12,
   "metadata": {},
   "outputs": [
    {
     "name": "stdout",
     "output_type": "stream",
     "text": [
      "2415\n"
     ]
    }
   ],
   "source": [
    "\n",
    "# write manifestations/items\n",
    "\n",
    "for x in data:\n",
    "    \n",
    "    work_id = x['@xl:href'].split('/')[-1]\n",
    "    work = name_loc[f\"resource/work/{work_id}\"]\n",
    "\n",
    "    items = list()    \n",
    "    for c in [x['components'][y] for y in x['components']]:\n",
    "        c = single_list(c)\n",
    "        for y in c:\n",
    "            items.append(y)\n",
    "            \n",
    "    for i in items:\n",
    "        \n",
    "        manifestation = name_loc[f\"resource/manifestation/{uuid.uuid4()}\"]\n",
    "        make_claim(manifestation, name_fiaf['ontology/property/instance_of'], name_fiaf['ontology/item/manifestation'])\n",
    "        make_claim(manifestation, name_fiaf['ontology/property/manifestation_of'], work)\n",
    "\n",
    "        item_id = pydash.get(i, 'itemId')\n",
    "        item = name_loc[f\"resource/item/{item_id}\"]     \n",
    "\n",
    "        make_claim(item, name_fiaf['ontology/property/instance_of'], name_fiaf['ontology/item/item'])        \n",
    "        make_claim(item, name_fiaf['ontology/property/item_of'], manifestation)  \n",
    "\n",
    "        claim_id = make_claim(item, name_fiaf['ontology/property/held_at'], name_loc['ontology/item/loc'])\n",
    "        reference(claim_id, name_loc['ontology/item/loc'])          \n",
    "        \n",
    "        claim_id = make_claim(item, name_fiaf['ontology/property/external_id'], rdflib.Literal(item_id))\n",
    "        make_qual(claim_id, name_fiaf['ontology/property/institution'], name_loc['ontology/item/loc'])\n",
    "        reference(claim_id, name_loc['ontology/item/loc']) \n",
    "    \n",
    "        for k, v in {'Safety':name_fiaf['ontology/item/film'], 'Nitrate':name_fiaf['ontology/item/film'],\n",
    "                     'Digital':name_fiaf['ontology/item/digital'], 'Video':name_fiaf['ontology/item/video_tape'],\n",
    "                     'Tape':name_fiaf['ontology/item/sound_tape'], 'Disc':name_fiaf['ontology/item/disc']}.items():\n",
    "            if pydash.get(i, 'itemType.@xl:title') == k:\n",
    "                claim_id = make_claim(item, name_fiaf['ontology/property/carrier'], v)   \n",
    "                reference(claim_id, name_loc['ontology/item/loc'])      \n",
    "\n",
    "        for k, v in {'16mm':name_fiaf['ontology/item/16mm'], '35mm':name_fiaf['ontology/item/35mm']}.items():\n",
    "            if pydash.get(i, 'gauge.@xl:title') == k:\n",
    "                claim_id = make_claim(item, name_fiaf['ontology/property/specific_carrier'], v)   \n",
    "                reference(claim_id, name_loc['ontology/item/loc'])         \n",
    "        \n",
    "        for k, v in {'Composite Positive':name_fiaf['ontology/item/print'], 'Duplicate Negative Track':name_fiaf['ontology/item/duplicate_negative'],\n",
    "                     'Duplicate Negative Picture':name_fiaf['ontology/item/duplicate_negative'], 'Positive Picture':name_fiaf['ontology/item/duplicate_positive']}.items():\n",
    "            if pydash.get(i, 'techCode.@xl:title') == k:\n",
    "                claim_id = make_claim(item, name_fiaf['ontology/property/element'], v)   \n",
    "                reference(claim_id, name_loc['ontology/item/loc'])      \n",
    "    \n",
    "        for k, v in {'Access':name_fiaf['ontology/item/viewing'], 'Preservation Copy':name_fiaf['ontology/item/master'],\n",
    "                     'Access/Browsing copy':name_fiaf['ontology/item/viewing'], 'Limited Access':name_fiaf['ontology/item/restricted'],\n",
    "                     'Preservation Material':name_fiaf['ontology/item/master']}.items():\n",
    "            if pydash.get(i, 'categoryMaterial.@xl:title') == k:\n",
    "                claim_id = make_claim(item, name_fiaf['ontology/property/access'], v)   \n",
    "                reference(claim_id, name_loc['ontology/item/loc'])         \n",
    "        \n",
    "        for k, v in {'Safety':name_fiaf['ontology/item/acetate'], 'Nitrate':name_fiaf['ontology/item/nitrate']}.items():\n",
    "            if pydash.get(i, 'itemType.@xl:title') == k:\n",
    "                claim_id = make_claim(item, name_fiaf['ontology/property/base'], v)   \n",
    "                reference(claim_id, name_loc['ontology/item/loc'])         \n",
    "        \n",
    "        make_claim(work, name_fiaf['ontology/property/manifestation'], manifestation)\n",
    "        make_claim(manifestation, name_fiaf['ontology/property/item'], item)                    \n",
    "\n",
    "print(len(graph)) \n"
   ]
  },
  {
   "cell_type": "code",
   "execution_count": 13,
   "metadata": {},
   "outputs": [
    {
     "name": "stdout",
     "output_type": "stream",
     "text": [
      "2415\n"
     ]
    }
   ],
   "source": [
    "\n",
    "graph.serialize(destination=str(pathlib.Path.cwd() / 'loc.ttl'), format=\"turtle\")\n",
    "print(len(graph))\n"
   ]
  }
 ],
 "metadata": {
  "kernelspec": {
   "display_name": "Python 3",
   "language": "python",
   "name": "python3"
  },
  "language_info": {
   "codemirror_mode": {
    "name": "ipython",
    "version": 3
   },
   "file_extension": ".py",
   "mimetype": "text/x-python",
   "name": "python",
   "nbconvert_exporter": "python",
   "pygments_lexer": "ipython3",
   "version": "3.8.2"
  }
 },
 "nbformat": 4,
 "nbformat_minor": 4
}
