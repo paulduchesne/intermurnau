{
 "cells": [
  {
   "cell_type": "code",
   "execution_count": 1,
   "metadata": {},
   "outputs": [],
   "source": [
    "\n",
    "# questions for EYE\n",
    "\n",
    "# 1. only some actors have authorities, is this true (credits without authorities), or were some not exported.\n",
    "# 2. Tussenvoegsels, is it appropriate to join to front or back, or what is english translation\n"
   ]
  },
  {
   "cell_type": "code",
   "execution_count": 2,
   "metadata": {},
   "outputs": [],
   "source": [
    "\n",
    "# import libraries\n",
    "\n",
    "import rdflib, pandas, pathlib, uuid\n",
    "import numpy\n"
   ]
  },
  {
   "cell_type": "code",
   "execution_count": 3,
   "metadata": {},
   "outputs": [],
   "source": [
    "\n",
    "# define graph and namespace\n",
    "\n",
    "graph = rdflib.Graph()\n",
    "\n",
    "name_eye = rdflib.Namespace('https://www.eyefilm.nl/') \n",
    "name_wb = rdflib.Namespace('http://wikibas.se/ontology')\n",
    "name_fiaf = rdflib.Namespace(\"https://www.fiafnet.org/\")\n"
   ]
  },
  {
   "cell_type": "code",
   "execution_count": 4,
   "metadata": {},
   "outputs": [],
   "source": [
    "\n",
    "def make_claim(s, p, o):        \n",
    "    claim_x = name_eye[f\"resource/claim/{uuid.uuid4()}\"]    \n",
    "    graph.add((s, name_wb['#claim'], claim_x))\n",
    "    graph.add((claim_x, p, o))\n",
    "    return claim_x\n",
    "    "
   ]
  },
  {
   "cell_type": "code",
   "execution_count": 5,
   "metadata": {},
   "outputs": [
    {
     "name": "stdout",
     "output_type": "stream",
     "text": [
      "6\n"
     ]
    }
   ],
   "source": [
    "\n",
    "# define institution\n",
    "\n",
    "# claim1 = name_eye[f\"resource/claim/{uuid.uuid4()}\"]\n",
    "graph.add((name_eye['ontology/item/eye'], rdflib.RDFS.label, rdflib.Literal('Eye Film Institute', lang='en'))) \n",
    "graph.add((name_eye['ontology/item/eye'], rdflib.RDFS.label, rdflib.Literal('Eye Filmmuseum', lang='nl'))) \n",
    "\n",
    "make_claim(name_eye['ontology/item/eye'], name_fiaf['ontology/property/instance_of'], name_fiaf['ontology/item/holding_institution'])\n",
    "\n",
    "# graph.add((name_eye['ontology/item/eye'], name_wb['#claim'], claim1))\n",
    "# graph.add((claim1, name_fiaf['ontology/property/instance_of'], name_fiaf['ontology/item/holding_institution'])) \n",
    "\n",
    "# claim2 = name_eye[f\"resource/claim/{uuid.uuid4()}\"]\n",
    "# graph.add((name_eye['ontology/item/eye'], name_wb['#claim'], claim2))\n",
    "# graph.add((claim2, name_fiaf['ontology/property/located_in'], name_fiaf['ontology/item/netherlands'])) \n",
    "\n",
    "make_claim(name_eye['ontology/item/eye'], name_fiaf['ontology/property/located_in'], name_fiaf['ontology/item/netherlands'])\n",
    "\n",
    "print(len(graph)) \n"
   ]
  },
  {
   "cell_type": "code",
   "execution_count": 6,
   "metadata": {},
   "outputs": [
    {
     "name": "stdout",
     "output_type": "stream",
     "text": [
      "9\n"
     ]
    }
   ],
   "source": [
    "\n",
    "# define specific linking properties\n",
    "\n",
    "graph.add((name_eye['ontology/property/eye_work_id'], rdflib.RDFS.label, rdflib.Literal('Eye work ID', lang='en'))) \n",
    "graph.add((name_eye['ontology/property/eye_agent_id'], rdflib.RDFS.label, rdflib.Literal('Eye agent ID', lang='en'))) \n",
    "graph.add((name_eye['ontology/property/eye_item_id'], rdflib.RDFS.label, rdflib.Literal('Eye item ID', lang='en'))) \n",
    "\n",
    "print(len(graph)) \n"
   ]
  },
  {
   "cell_type": "code",
   "execution_count": 7,
   "metadata": {},
   "outputs": [
    {
     "name": "stdout",
     "output_type": "stream",
     "text": [
      "9\n"
     ]
    }
   ],
   "source": [
    "\n",
    "# reference\n",
    "\n",
    "def reference(claim_id):\n",
    "    \n",
    "    ref_id = name_eye[f\"resource/reference/{uuid.uuid4()}\"]\n",
    "    graph.add((claim_id, name_wb['#reference'], ref_id))\n",
    "    graph.add((ref_id, name_fiaf['ontology/property/contributed_by'], name_eye['ontology/item/eye']))  \n",
    "\n",
    "print(len(graph))  \n"
   ]
  },
  {
   "cell_type": "code",
   "execution_count": 8,
   "metadata": {},
   "outputs": [],
   "source": [
    "   \n",
    "def make_qual(s, p, o):\n",
    "    qual_x = name_eye[f\"resource/qualifier/{uuid.uuid4()}\"]       \n",
    "    graph.add((s, name_wb['#qualifier'], qual_x))\n",
    "    graph.add((qual_x, p, o))\n",
    "    return qual_x\n",
    "    "
   ]
  },
  {
   "cell_type": "code",
   "execution_count": 9,
   "metadata": {},
   "outputs": [
    {
     "name": "stdout",
     "output_type": "stream",
     "text": [
      "['work', 'items_ana', 'items_digi', 'persons', 'corporations', 'places']\n"
     ]
    }
   ],
   "source": [
    "\n",
    "# load eye data and write work and original title\n",
    "# git/intermurnau/2-contributors/eye/Eye-Murnau.xlsx\n",
    "\n",
    "\n",
    "data = pandas.read_excel(pathlib.Path.cwd() / 'Eye-Murnau.xlsx', None)\n",
    "sheet_names = list(data.keys())\n",
    "print(sheet_names)\n",
    "\n",
    "data1 = pandas.read_excel(pathlib.Path.cwd() / 'Eye-Murnau.xlsx', sheet_name=sheet_names[0])\n",
    "data1 = data1.to_dict(orient='records')\n",
    "\n",
    "data2 = pandas.read_excel(pathlib.Path.cwd() / 'Eye-Murnau.xlsx', sheet_name=sheet_names[3])\n",
    "data2 = data2.to_dict(orient='records')\n",
    "\n",
    "data3 = pandas.read_excel(pathlib.Path.cwd() / 'Eye-Murnau.xlsx', sheet_name=sheet_names[1])[1:]\n",
    "data3 = data3.to_dict(orient='records')\n",
    "\n",
    "data4 = pandas.read_excel(pathlib.Path.cwd() / 'Eye-Murnau.xlsx', sheet_name=sheet_names[2])[1:]\n",
    "data4 = data4.to_dict(orient='records')\n"
   ]
  },
  {
   "cell_type": "code",
   "execution_count": 10,
   "metadata": {},
   "outputs": [
    {
     "name": "stdout",
     "output_type": "stream",
     "text": [
      "41\n"
     ]
    }
   ],
   "source": [
    "\n",
    "# write work \n",
    "\n",
    "for x in data1:\n",
    "    \n",
    "    work_id = x['ID']\n",
    "    work = name_eye[f\"resource/work/{work_id}\"]\n",
    "    \n",
    "    make_claim(work, name_fiaf['ontology/property/instance_of'], name_fiaf['ontology/item/work'])\n",
    "    make_claim(work, name_eye['ontology/property/eye_work_id'], rdflib.Literal(work_id))    \n",
    "\n",
    "print(len(graph))\n"
   ]
  },
  {
   "cell_type": "code",
   "execution_count": 11,
   "metadata": {},
   "outputs": [
    {
     "name": "stdout",
     "output_type": "stream",
     "text": [
      "89\n"
     ]
    }
   ],
   "source": [
    "\n",
    "# write original title\n",
    "\n",
    "for x in data1:\n",
    "    \n",
    "    work_id = x['ID']\n",
    "    work = name_eye[f\"resource/work/{work_id}\"]\n",
    "\n",
    "    claim1 = make_claim(work, name_fiaf['ontology/property/title'], rdflib.Literal(x['Originele titel']))\n",
    "    make_qual(claim1, name_fiaf['ontology/property/title_type'], name_fiaf['ontology/item/original_title'])\n",
    "    reference(claim1)    \n",
    "\n",
    "print(len(graph))\n"
   ]
  },
  {
   "cell_type": "code",
   "execution_count": 12,
   "metadata": {},
   "outputs": [
    {
     "name": "stdout",
     "output_type": "stream",
     "text": [
      "121\n"
     ]
    }
   ],
   "source": [
    "\n",
    "# write country of production\n",
    "# Duitsland\n",
    "# Verenigde Staten\n",
    "\n",
    "for x in data1:\n",
    "    \n",
    "    work_id = x['ID']\n",
    "    work = name_eye[f\"resource/work/{work_id}\"]\n",
    "    \n",
    "    for k, v in {'Duitsland':name_fiaf['ontology/item/germany'], 'Verenigde Staten':name_fiaf['ontology/item/usa']}.items():\n",
    "        if x['Productieland'] == k:\n",
    "            claim_id = make_claim(work, name_fiaf['ontology/property/production_country'], v)  \n",
    "            reference(claim_id)     \n",
    "            \n",
    "print(len(graph))            \n"
   ]
  },
  {
   "cell_type": "code",
   "execution_count": 13,
   "metadata": {},
   "outputs": [
    {
     "name": "stdout",
     "output_type": "stream",
     "text": [
      "2893\n"
     ]
    }
   ],
   "source": [
    "\n",
    "# write actor data\n",
    "\n",
    "# read actor lists in from dataframe one and find in dataframe two\n",
    "# one idea is to only include those with authorit\n",
    "\n",
    "\n",
    "# okay can we write acteur as a function, it would be\n",
    "# dict key (acteur) and the fiaf definition\n",
    "\n",
    "\n",
    "    \n",
    "def write_credit(work_data, dict_key, agent_type): \n",
    "    \n",
    "    work_id = x['ID']\n",
    "    work = name_eye[f\"resource/work/{work_id}\"]\n",
    "    \n",
    "    actor_list = x[dict_key]\n",
    "    \n",
    "    if isinstance(actor_list, str):\n",
    "        actor_list = actor_list.split('\\n') # this is the one\n",
    "        for a in actor_list:\n",
    "\n",
    "            auth = [y for y in data2 if y['Naam'] == a.split('(')[0].strip()]\n",
    "\n",
    "            if len(auth) == 0:\n",
    "                pass\n",
    "            elif len(auth) > 1:\n",
    "                raise Exception('multiple results for name.')\n",
    "            else:\n",
    "    #             print(name_key, len(auth))\n",
    "                auth_data = auth[0]\n",
    "                auth_id = auth_data['ID']\n",
    "\n",
    "                agent1 = name_eye[f\"resource/agent/{auth_id}\"]\n",
    "\n",
    "                claim1 = name_eye[f\"resource/claim/{uuid.uuid4()}\"]\n",
    "                claim2 = name_eye[f\"resource/claim/{uuid.uuid4()}\"]\n",
    "                claim3 = name_eye[f\"resource/claim/{uuid.uuid4()}\"]\n",
    "                claim4 = name_eye[f\"resource/claim/{uuid.uuid4()}\"]\n",
    "                claim5 = name_eye[f\"resource/claim/{uuid.uuid4()}\"]    \n",
    "                claim6 = name_eye[f\"resource/claim/{uuid.uuid4()}\"]                \n",
    "\n",
    "                qual1 = name_eye[f\"resource/qualifier/{uuid.uuid4()}\"]         \n",
    "\n",
    "                graph.add((work, name_wb['#claim'], claim1))\n",
    "                graph.add((claim1, name_fiaf['ontology/property/agent'], agent1))\n",
    "                reference(claim1)            \n",
    "\n",
    "                graph.add((claim1, name_wb['#qualifier'], qual1))\n",
    "                graph.add((qual1, name_fiaf['ontology/property/agent_type'], agent_type))\n",
    "\n",
    "                graph.add((agent1, name_wb['#claim'], claim2))\n",
    "                graph.add((claim2, name_fiaf['ontology/property/instance_of'], name_fiaf['ontology/item/agent'])) \n",
    "\n",
    "                graph.add((agent1, name_wb['#claim'], claim6))\n",
    "                graph.add((claim6, name_eye['ontology/property/eye_agent_id'], rdflib.Literal(auth_id)))            \n",
    "\n",
    "                graph.add((agent1, name_wb['#claim'], claim3))\n",
    "                graph.add((claim3, name_fiaf['ontology/property/forename'], rdflib.Literal(auth_data['Voornamen']))) \n",
    "                reference(claim3)      \n",
    "\n",
    "                if isinstance(auth_data['Tussenvoegsels'], str):\n",
    "                    sur = (str(auth_data['Tussenvoegsels'])+' '+auth_data['Familienaam']).strip()\n",
    "                else:\n",
    "                    sur = (auth_data['Familienaam']).strip()\n",
    "\n",
    "\n",
    "                graph.add((agent1, name_wb['#claim'], claim4))\n",
    "                graph.add((claim4, name_fiaf['ontology/property/surname'], rdflib.Literal(sur)))\n",
    "                reference(claim4)             \n",
    "\n",
    "                if auth_data['Geslacht'] == 'Man':\n",
    "                    graph.add((agent1, name_wb['#claim'], claim5))\n",
    "                    graph.add((claim5, name_fiaf['ontology/property/gender'], name_fiaf['ontology/item/male']))\n",
    "                    reference(claim5)   \n",
    "\n",
    "                elif auth_data['Geslacht'] == 'Vrouw':\n",
    "                    graph.add((agent1, name_wb['#claim'], claim5))\n",
    "                    graph.add((claim5, name_fiaf['ontology/property/gender'], name_fiaf['ontology/item/female']))\n",
    "                    reference(claim5)  \n",
    "                else:\n",
    "                    pass\n",
    "\n",
    "\n",
    "                # okay now for events\n",
    "                # format is agent > event > date as string\n",
    "                # event type, date of birth, date of death\n",
    "\n",
    "\n",
    "                if auth_data['Geboortedatum'] is not numpy.nan:\n",
    "\n",
    "                    claim7 = name_eye[f\"resource/claim/{uuid.uuid4()}\"]   \n",
    "                    qual2 = name_eye[f\"resource/qualifier/{uuid.uuid4()}\"]                  \n",
    "\n",
    "                    birth_data = auth_data['Geboortedatum']\n",
    "                    birth_data = str(birth_data).split(' ')[0]\n",
    "\n",
    "                    graph.add((agent1, name_wb['#claim'], claim7))\n",
    "                    graph.add((claim7, name_fiaf['ontology/property/event'], rdflib.Literal(birth_data)))\n",
    "                    reference(claim7)   \n",
    "\n",
    "                    graph.add((claim7, name_wb['#qualifier'], qual2))\n",
    "                    graph.add((qual2, name_fiaf['ontology/property/event_type'], name_fiaf['ontology/item/birth']))\n",
    "\n",
    "\n",
    "\n",
    "                if auth_data['Sterfdatum'] is not numpy.nan:\n",
    "\n",
    "                    claim8 = name_eye[f\"resource/claim/{uuid.uuid4()}\"]   \n",
    "                    qual3 = name_eye[f\"resource/qualifier/{uuid.uuid4()}\"]                  \n",
    "\n",
    "                    death_data = auth_data['Sterfdatum']\n",
    "                    death_data = str(death_data).split(' ')[0]               \n",
    "\n",
    "                    graph.add((agent1, name_wb['#claim'], claim8))\n",
    "                    graph.add((claim8, name_fiaf['ontology/property/event'], rdflib.Literal(death_data)))\n",
    "                    reference(claim8)   \n",
    "\n",
    "                    graph.add((claim8, name_wb['#qualifier'], qual3))\n",
    "                    graph.add((qual3, name_fiaf['ontology/property/event_type'], name_fiaf['ontology/item/death']))\n",
    "                    \n",
    "                make_claim(agent1, name_fiaf['ontology/property/work'], work)\n",
    "                    \n",
    "                    \n",
    "                    \n",
    "\n",
    "for x in data1:\n",
    "    \n",
    "\n",
    "    write_credit(x, 'Acteur', name_fiaf['ontology/item/cast'])\n",
    "    write_credit(x, 'Regie', name_fiaf['ontology/item/director'])\n",
    "    write_credit(x, 'Producent', name_fiaf['ontology/item/producer'])   \n",
    "    write_credit(x, 'Camera', name_fiaf['ontology/item/cinematographer'])   \n",
    "    write_credit(x, 'Montage', name_fiaf['ontology/item/editor'])      \n",
    "    write_credit(x, 'Scenarioschrijver', name_fiaf['ontology/item/screenwriter'])  \n",
    "    write_credit(x, 'Componist', name_fiaf['ontology/item/composer'])      \n",
    "        \n",
    "print(len(graph))\n"
   ]
  },
  {
   "cell_type": "code",
   "execution_count": 14,
   "metadata": {},
   "outputs": [
    {
     "name": "stdout",
     "output_type": "stream",
     "text": [
      "2949\n"
     ]
    }
   ],
   "source": [
    "\n",
    "# okay now question can you write event triple for release date netherlands\n",
    "\n",
    "for x in data1:\n",
    "    \n",
    "    work_id = x['ID']\n",
    "    work = name_eye[f\"resource/work/{work_id}\"]\n",
    "        \n",
    "    nl_release_date = x['Releasedatum Nederland']\n",
    "\n",
    "    if len(str(nl_release_date)) == 19:\n",
    "        if nl_release_date != numpy.nan:\n",
    "            \n",
    "            claim1 = name_eye[f\"resource/claim/{uuid.uuid4()}\"] # event claim\n",
    "            qual1 = name_eye[f\"resource/qualifier/{uuid.uuid4()}\"] # event type\n",
    "            qual2 = name_eye[f\"resource/qualifier/{uuid.uuid4()}\"] # in country\n",
    "\n",
    "            rel_date = str(x['Releasedatum Nederland'])[:10]\n",
    "\n",
    "            graph.add((work, name_wb['#claim'], claim1))\n",
    "            graph.add((claim1, name_fiaf['ontology/property/event'], rdflib.Literal(rel_date)))\n",
    "            reference(claim1)   \n",
    "\n",
    "            graph.add((claim1, name_wb['#qualifier'], qual1))\n",
    "            graph.add((qual1, name_fiaf['ontology/property/event_type'], name_fiaf['ontology/item/release_date']))\n",
    "            \n",
    "            graph.add((claim1, name_wb['#qualifier'], qual2))\n",
    "            graph.add((qual2, name_fiaf['ontology/property/country'], name_fiaf['ontology/item/netherlands']))            \n",
    "            \n",
    "print(len(graph))\n"
   ]
  },
  {
   "cell_type": "code",
   "execution_count": 15,
   "metadata": {},
   "outputs": [
    {
     "name": "stdout",
     "output_type": "stream",
     "text": [
      "3711\n"
     ]
    }
   ],
   "source": [
    "\n",
    "\n",
    "for x in data3:\n",
    "    \n",
    "    # okay for each one, you generate a manifestation\n",
    "    # which is instance of manifestation, manifestations of work\n",
    "    # then item, is item of manifestations\n",
    "    # then add detail to item\n",
    "    \n",
    "    work_id = x['ID Filmwerk']\n",
    "    work = name_eye[f\"resource/work/{work_id}\"]\n",
    "    manifestation = name_eye[f\"resource/manifestation/{uuid.uuid4()}\"]\n",
    "\n",
    "    claim1 = name_eye[f\"resource/claim/{uuid.uuid4()}\"]\n",
    "    claim2 = name_eye[f\"resource/claim/{uuid.uuid4()}\"]    \n",
    "    \n",
    "    graph.add((manifestation, name_wb['#claim'], claim1))\n",
    "    graph.add((claim1, name_fiaf['ontology/property/instance_of'], name_fiaf['ontology/item/manifestation']))\n",
    "\n",
    "    graph.add((manifestation, name_wb['#claim'], claim2))\n",
    "    graph.add((claim2, name_fiaf['ontology/property/manifestation_of'], work))\n",
    "    \n",
    "    item_id = x['ID']   \n",
    "    item = name_eye[f\"resource/manifestation/{item_id}\"]     \n",
    "    \n",
    "    make_claim(item, name_fiaf['ontology/property/instance_of'], name_fiaf['ontology/item/item'])        \n",
    "    make_claim(item, name_fiaf['ontology/property/item_of'], manifestation)     \n",
    "\n",
    "    for k, v in {'Projectiekopie':name_fiaf['ontology/item/projection'], 'Conserveringselement':name_fiaf['ontology/item/preservation']}.items():\n",
    "        if x['Functie'] == k:\n",
    "            claim_id = make_claim(item, name_fiaf['ontology/property/function'], v)                  \n",
    "        \n",
    "    for k, v in {'Positief':name_fiaf['ontology/item/positive'], 'Negatief':name_fiaf['ontology/item/negative'], 'Omkeer kopie':name_fiaf['ontology/item/reversal']}.items():\n",
    "        if x['Soort'] == k:\n",
    "            claim_id = make_claim(item, name_fiaf['ontology/property/type'], v)                     \n",
    "        \n",
    "    for k, v in {'Tape':name_fiaf['ontology/item/videotape'], 'Acetaat onbepaald':name_fiaf['ontology/item/acetate'], 'Nitraat':name_fiaf['ontology/item/nitrate']}.items():\n",
    "        if x['Drager'] == k:\n",
    "            claim_id = make_claim(item, name_fiaf['ontology/property/carrier'], v)                    \n",
    "\n",
    "    for k, v in {'Digibeta':name_fiaf['ontology/item/digibeta'], '16mm':name_fiaf['ontology/item/16mm'], '35mm':name_fiaf['ontology/item/35mm']}.items():\n",
    "        if x['Formaat'] == k:\n",
    "            claim_id = make_claim(item, name_fiaf['ontology/property/format'], v)     \n",
    "\n",
    "    for k, v in {'Stil':name_fiaf['ontology/item/mute'], 'Optisch':name_fiaf['ontology/item/optical']}.items():\n",
    "        if x['Geluid'] == k:\n",
    "            claim_id = make_claim(item, name_fiaf['ontology/property/sound'], v)     \n",
    "\n",
    "    if x['Metrage (geschat)'] != 0:\n",
    "        claim_id = make_claim(item, name_fiaf['ontology/property/extent'], rdflib.Literal(x['Metrage (geschat)']))\n",
    "            \n",
    "    make_claim(item, name_fiaf['ontology/property/held_at'], name_eye['ontology/item/eye'])\n",
    "    make_claim(item, name_eye['ontology/property/eye_item_id'], rdflib.Literal(item_id)) \n",
    "    \n",
    "    # now for reverse properties\n",
    "    # we need work, manifestion \n",
    "    make_claim(work, name_fiaf['ontology/property/manifestation'], manifestation)\n",
    "    make_claim(manifestation, name_fiaf['ontology/property/item'], item)    \n",
    "    \n",
    "print(len(graph))\n"
   ]
  },
  {
   "cell_type": "code",
   "execution_count": 16,
   "metadata": {},
   "outputs": [
    {
     "name": "stdout",
     "output_type": "stream",
     "text": [
      "3771\n"
     ]
    }
   ],
   "source": [
    "\n",
    "# add digital items\n",
    "\n",
    "for x in data4:\n",
    "    \n",
    "    # okay for each one, you generate a manifestation\n",
    "    # which is instance of manifestation, manifestations of work\n",
    "    # then item, is item of manifestations\n",
    "    # then add detail to item\n",
    "    \n",
    "    work_id = x['ID Filmwerk']\n",
    "    work = name_eye[f\"resource/work/{work_id}\"]\n",
    "    manifestation = name_eye[f\"resource/manifestation/{uuid.uuid4()}\"]\n",
    "\n",
    "    claim1 = name_eye[f\"resource/claim/{uuid.uuid4()}\"]\n",
    "    claim2 = name_eye[f\"resource/claim/{uuid.uuid4()}\"]    \n",
    "    \n",
    "    graph.add((manifestation, name_wb['#claim'], claim1))\n",
    "    graph.add((claim1, name_fiaf['ontology/property/instance_of'], name_fiaf['ontology/item/manifestation']))\n",
    "\n",
    "    graph.add((manifestation, name_wb['#claim'], claim2))\n",
    "    graph.add((claim2, name_fiaf['ontology/property/manifestation_of'], work))\n",
    "    \n",
    "    item_id = x['ID']   \n",
    "    item = name_eye[f\"resource/manifestation/{item_id}\"]     \n",
    "    \n",
    "    make_claim(item, name_fiaf['ontology/property/instance_of'], name_fiaf['ontology/item/item'])        \n",
    "    make_claim(item, name_fiaf['ontology/property/item_of'], manifestation)     \n",
    "\n",
    "    for k, v in {'Projectiekopie':name_fiaf['ontology/item/projection'], 'Conserveringselement':name_fiaf['ontology/item/preservation']}.items():\n",
    "        if x['Functie'] == k:\n",
    "            claim_id = make_claim(item, name_fiaf['ontology/property/function'], v)                  \n",
    "        \n",
    "#     for k, v in {'Positief':name_fiaf['ontology/item/positive'], 'Negatief':name_fiaf['ontology/item/negative'], 'Omkeer kopie':name_fiaf['ontology/item/reversal']}.items():\n",
    "#         if x['Soort'] == k:\n",
    "#             claim_id = make_claim(item, name_fiaf['ontology/property/type'], v)                     \n",
    "        \n",
    "#     for k, v in {'Tape':name_fiaf['ontology/item/videotape'], 'Acetaat onbepaald':name_fiaf['ontology/item/acetate'], 'Nitraat':name_fiaf['ontology/item/nitrate']}.items():\n",
    "#         if x['Drager'] == k:\n",
    "#             claim_id = make_claim(item, name_fiaf['ontology/property/carrier'], v)                    \n",
    "\n",
    "    for k, v in {'.mxf':name_fiaf['ontology/item/mxf']}.items():\n",
    "        if x['Formaat'] == k:\n",
    "            claim_id = make_claim(item, name_fiaf['ontology/property/format'], v)     \n",
    "\n",
    "#     for k, v in {'Stil':name_fiaf['ontology/item/mute'], 'Optisch':name_fiaf['ontology/item/optical']}.items():\n",
    "#         if x['Geluid'] == k:\n",
    "#             claim_id = make_claim(item, name_fiaf['ontology/property/sound'], v)     \n",
    "\n",
    "#     if x['Metrage (geschat)'] != 0:\n",
    "#         claim_id = make_claim(item, name_fiaf['ontology/property/extent'], rdflib.Literal(x['Metrage (geschat)']))\n",
    "            \n",
    "    make_claim(item, name_fiaf['ontology/property/held_at'], name_eye['ontology/item/eye'])\n",
    "    make_claim(item, name_eye['ontology/property/eye_item_id'], rdflib.Literal(item_id)) \n",
    "    \n",
    "    # now for reverse properties\n",
    "    # we need work, manifestion \n",
    "    make_claim(work, name_fiaf['ontology/property/manifestation'], manifestation)\n",
    "    make_claim(manifestation, name_fiaf['ontology/property/item'], item)    \n",
    "    \n",
    "print(len(graph))"
   ]
  },
  {
   "cell_type": "code",
   "execution_count": 17,
   "metadata": {},
   "outputs": [
    {
     "name": "stdout",
     "output_type": "stream",
     "text": [
      "3771\n"
     ]
    }
   ],
   "source": [
    "\n",
    "graph.serialize(destination=str(pathlib.Path.cwd() / 'eye.ttl'), format=\"turtle\")\n",
    "print(len(graph))\n"
   ]
  }
 ],
 "metadata": {
  "kernelspec": {
   "display_name": "Python 3",
   "language": "python",
   "name": "python3"
  },
  "language_info": {
   "codemirror_mode": {
    "name": "ipython",
    "version": 3
   },
   "file_extension": ".py",
   "mimetype": "text/x-python",
   "name": "python",
   "nbconvert_exporter": "python",
   "pygments_lexer": "ipython3",
   "version": "3.8.2"
  }
 },
 "nbformat": 4,
 "nbformat_minor": 4
}
