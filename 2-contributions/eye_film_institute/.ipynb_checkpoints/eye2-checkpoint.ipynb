{
 "cells": [
  {
   "cell_type": "code",
   "execution_count": 1,
   "metadata": {},
   "outputs": [],
   "source": [
    "\n",
    "# start with works, go to titles, then look at work merging\n"
   ]
  },
  {
   "cell_type": "code",
   "execution_count": 2,
   "metadata": {},
   "outputs": [],
   "source": [
    "\n",
    "# import libraries\n",
    "\n",
    "import rdflib, pandas, pathlib, json\n",
    "import numpy, uuid, xmltodict, pydash\n"
   ]
  },
  {
   "cell_type": "code",
   "execution_count": 3,
   "metadata": {},
   "outputs": [],
   "source": [
    "\n",
    "# define graph and namespace\n",
    "\n",
    "graph = rdflib.Graph()\n",
    "\n",
    "name_eye = rdflib.Namespace('https://www.eyefilm.nl/') \n",
    "name_wb = rdflib.Namespace('http://wikibas.se/ontology')\n",
    "name_fiaf = rdflib.Namespace(\"https://www.fiafnet.org/\")\n"
   ]
  },
  {
   "cell_type": "code",
   "execution_count": 4,
   "metadata": {},
   "outputs": [],
   "source": [
    "\n",
    "# useful functions\n",
    "\n",
    "def make_claim(s, p, o):        \n",
    "    claim_id = name_eye[f\"resource/claim/{uuid.uuid4()}\"]    \n",
    "    graph.add((s, name_wb['#claim'], claim_id))\n",
    "    graph.add((claim_id, p, o))\n",
    "    return claim_id\n",
    "\n",
    "def make_qual(s, p, o):\n",
    "    qual_id = name_eye[f\"resource/qualifier/{uuid.uuid4()}\"]       \n",
    "    graph.add((s, name_wb['#qualifier'], qual_id))\n",
    "    graph.add((qual_id, p, o))\n",
    "    return qual_id\n",
    "\n",
    "def reference(claim_id, institute):\n",
    "    ref_id = name_eye[f\"resource/reference/{uuid.uuid4()}\"]\n",
    "    graph.add((claim_id, name_wb['#reference'], ref_id))\n",
    "    graph.add((ref_id, name_fiaf['ontology/property/contributed_by'], institute)) \n",
    "\n",
    "def single_list(data):  \n",
    "    if isinstance(data, list):\n",
    "        return data\n",
    "    else:\n",
    "        return [data]     \n"
   ]
  },
  {
   "cell_type": "code",
   "execution_count": 5,
   "metadata": {},
   "outputs": [
    {
     "name": "stdout",
     "output_type": "stream",
     "text": [
      "6\n"
     ]
    }
   ],
   "source": [
    "\n",
    "# define institution\n",
    "\n",
    "graph.add((name_eye['ontology/item/eye'], rdflib.RDFS.label, rdflib.Literal('Eye Film Institute', lang='en'))) \n",
    "graph.add((name_eye['ontology/item/eye'], rdflib.RDFS.label, rdflib.Literal('Eye Filmmuseum', lang='nl'))) \n",
    "make_claim(name_eye['ontology/item/eye'], name_fiaf['ontology/property/instance_of'], name_fiaf['ontology/item/holding_institution'])\n",
    "make_claim(name_eye['ontology/item/eye'], name_fiaf['ontology/property/located_in'], name_fiaf['ontology/item/netherlands'])\n",
    "\n",
    "print(len(graph)) \n"
   ]
  },
  {
   "cell_type": "code",
   "execution_count": 6,
   "metadata": {},
   "outputs": [
    {
     "name": "stdout",
     "output_type": "stream",
     "text": [
      "6\n"
     ]
    }
   ],
   "source": [
    "\n",
    "# format data\n",
    "\n",
    "data_work = pandas.read_excel(pathlib.Path.cwd() / 'Eye-Murnau.xlsx', sheet_name='work').to_dict(orient='records')\n",
    "data_person = pandas.read_excel(pathlib.Path.cwd() / 'Eye-Murnau.xlsx', sheet_name='persons').to_dict(orient='records')\n",
    "data_analogue = pandas.read_excel(pathlib.Path.cwd() / 'Eye-Murnau.xlsx', sheet_name='items_ana', dtype=str)[1:].to_dict(orient='records')\n",
    "data_digital = pandas.read_excel(pathlib.Path.cwd() / 'Eye-Murnau.xlsx', sheet_name='items_digi', dtype=str)[1:].to_dict(orient='records')\n",
    "\n",
    "print(len(graph))\n"
   ]
  },
  {
   "cell_type": "code",
   "execution_count": 7,
   "metadata": {},
   "outputs": [
    {
     "name": "stdout",
     "output_type": "stream",
     "text": [
      "70\n"
     ]
    }
   ],
   "source": [
    "\n",
    "# write work \n",
    "\n",
    "for x in data_work:\n",
    "    \n",
    "    work_id = x['ID']\n",
    "    work = name_eye[f\"resource/work/{work_id}\"]\n",
    "\n",
    "    make_claim(work, name_fiaf['ontology/property/instance_of'], name_fiaf['ontology/item/work'])\n",
    "    claim1 = make_claim(work, name_fiaf['ontology/property/external_id'], rdflib.Literal(work_id))\n",
    "    make_qual(claim1, name_fiaf['ontology/property/institution'], name_eye['ontology/item/eye'])\n",
    "    reference(claim1, name_eye['ontology/item/eye'])     \n",
    "\n",
    "print(len(graph))\n"
   ]
  },
  {
   "cell_type": "code",
   "execution_count": 8,
   "metadata": {},
   "outputs": [
    {
     "name": "stdout",
     "output_type": "stream",
     "text": [
      "118\n"
     ]
    }
   ],
   "source": [
    "\n",
    "# write original title\n",
    "\n",
    "for x in data_work:\n",
    "   \n",
    "    work_id = x['ID']\n",
    "    work = name_eye[f\"resource/work/{work_id}\"]\n",
    "\n",
    "    claim1 = make_claim(work, name_fiaf['ontology/property/title'], rdflib.Literal(x['Originele titel']))\n",
    "    make_qual(claim1, name_fiaf['ontology/property/title_type'], name_fiaf['ontology/item/original_title'])\n",
    "    reference(claim1, name_eye['ontology/item/eye'])    \n",
    "\n",
    "print(len(graph))\n"
   ]
  },
  {
   "cell_type": "code",
   "execution_count": 9,
   "metadata": {},
   "outputs": [
    {
     "name": "stdout",
     "output_type": "stream",
     "text": [
      "150\n"
     ]
    }
   ],
   "source": [
    "\n",
    "# country of origin\n",
    "\n",
    "for x in data_work:\n",
    "   \n",
    "    work_id = x['ID']\n",
    "    work = name_eye[f\"resource/work/{work_id}\"]\n",
    "\n",
    "    for k, v in {'Duitsland':name_fiaf['ontology/item/germany'], 'Verenigde Staten':name_fiaf['ontology/item/usa']}.items():\n",
    "        if x['Productieland'] == k:\n",
    "            claim1 = make_claim(work, name_fiaf['ontology/property/production_country'], v)  \n",
    "            reference(claim1, name_eye['ontology/item/eye'])     \n",
    "            \n",
    "print(len(graph))            \n"
   ]
  },
  {
   "cell_type": "code",
   "execution_count": 10,
   "metadata": {},
   "outputs": [
    {
     "name": "stdout",
     "output_type": "stream",
     "text": [
      "3480\n"
     ]
    }
   ],
   "source": [
    "\n",
    "# write agent\n",
    "\n",
    "def write_credit(work_data, dict_key, agent_type): \n",
    "    \n",
    "    work_id = x['ID']\n",
    "    work = name_eye[f\"resource/work/{work_id}\"]\n",
    "\n",
    "    actor_list = x[dict_key]\n",
    "    \n",
    "    if isinstance(actor_list, str):\n",
    "        actor_list = actor_list.split('\\n') # this is the one\n",
    "        for a in actor_list:\n",
    "            auth = [y for y in data_person if y['Naam'] == a.split('(')[0].strip()]\n",
    "\n",
    "            if len(auth) == 1:\n",
    "\n",
    "                auth_data = auth[0]\n",
    "                agent = name_eye[f\"resource/agent/{auth_data['ID']}\"]\n",
    "                 \n",
    "                claim1 = make_claim(work, name_fiaf['ontology/property/agent'], agent)\n",
    "                make_qual(claim1, name_fiaf['ontology/property/agent_type'], agent_type)                \n",
    "                reference(claim1, name_eye['ontology/item/eye']) \n",
    "                \n",
    "                make_claim(agent, name_fiaf['ontology/property/instance_of'], name_fiaf['ontology/item/agent']) \n",
    "\n",
    "                claim2 = make_claim(agent, name_fiaf['ontology/property/external_id'], rdflib.Literal(auth_data['ID']))\n",
    "                make_qual(claim2, name_fiaf['ontology/property/institution'], name_eye['ontology/item/eye'])\n",
    "                reference(claim2, name_eye['ontology/item/eye'])                \n",
    "            \n",
    "                if isinstance(auth_data['Tussenvoegsels'], str):\n",
    "                    sur = (str(auth_data['Tussenvoegsels'])+' '+auth_data['Familienaam']).strip()\n",
    "                else:\n",
    "                    sur = (auth_data['Familienaam']).strip()\n",
    "                    \n",
    "                claim3 = make_claim(agent, name_fiaf['ontology/property/forename'], rdflib.Literal(auth_data['Voornamen']))\n",
    "                reference(claim3, name_eye['ontology/item/eye'])\n",
    "                \n",
    "                claim4 = make_claim(agent, name_fiaf['ontology/property/surname'], rdflib.Literal(sur))\n",
    "                reference(claim4, name_eye['ontology/item/eye'])                \n",
    "\n",
    "                if auth_data['Geslacht'] == 'Man':\n",
    "                    claim5 = make_claim(agent, name_fiaf['ontology/property/gender'], name_fiaf['ontology/item/male'])\n",
    "                    reference(claim5, name_eye['ontology/item/eye'])   \n",
    "                elif auth_data['Geslacht'] == 'Vrouw':\n",
    "                    claim5 = make_claim(agent, name_fiaf['ontology/property/gender'], name_fiaf['ontology/item/female'])\n",
    "                    reference(claim5, name_eye['ontology/item/eye'])                       \n",
    "                else:\n",
    "                    raise Exception('Unknown gender listed.')   \n",
    "                    \n",
    "                if auth_data['Geboortedatum'] is not numpy.nan:\n",
    "                    birth_data = str(auth_data['Geboortedatum']).split(' ')[0]                    \n",
    "                    claim6 = make_claim(agent, name_fiaf['ontology/property/event'], rdflib.Literal(birth_data))\n",
    "                    make_qual(claim6, name_fiaf['ontology/property/event_type'], name_fiaf['ontology/item/birth'])\n",
    "                    reference(claim6, name_eye['ontology/item/eye'])                      \n",
    "\n",
    "                if auth_data['Sterfdatum'] is not numpy.nan:\n",
    "                    death_data = str(auth_data['Sterfdatum']).split(' ')[0]                   \n",
    "                    claim7 = make_claim(agent, name_fiaf['ontology/property/event'], rdflib.Literal(death_data))\n",
    "                    make_qual(claim7, name_fiaf['ontology/property/event_type'], name_fiaf['ontology/item/death'])\n",
    "                    reference(claim7, name_eye['ontology/item/eye'])                      \n",
    "\n",
    "                claim9 = make_claim(agent, name_fiaf['ontology/property/work'], work)    \n",
    "                reference(claim9, name_eye['ontology/item/eye'])                  \n",
    "                \n",
    "for x in data_work:\n",
    "    write_credit(x, 'Acteur', name_fiaf['ontology/item/cast'])\n",
    "    write_credit(x, 'Regie', name_fiaf['ontology/item/director'])\n",
    "    write_credit(x, 'Producent', name_fiaf['ontology/item/producer'])   \n",
    "    write_credit(x, 'Camera', name_fiaf['ontology/item/cinematographer'])   \n",
    "    write_credit(x, 'Montage', name_fiaf['ontology/item/editor'])      \n",
    "    write_credit(x, 'Scenarioschrijver', name_fiaf['ontology/item/screenwriter'])  \n",
    "    write_credit(x, 'Componist', name_fiaf['ontology/item/composer'])      \n",
    "        \n",
    "print(len(graph))\n"
   ]
  },
  {
   "cell_type": "code",
   "execution_count": 11,
   "metadata": {},
   "outputs": [
    {
     "name": "stdout",
     "output_type": "stream",
     "text": [
      "3576\n"
     ]
    }
   ],
   "source": [
    "\n",
    "# write events - events of interest, dutch release and censorship\n",
    "\n",
    "for x in data_work:\n",
    "    \n",
    "    work_id = x['ID']\n",
    "    work = name_eye[f\"resource/work/{work_id}\"]\n",
    "        \n",
    "    nl_release_date = x['Releasedatum Nederland']\n",
    "    if len(str(nl_release_date)) == 19:\n",
    "        if nl_release_date != numpy.nan:\n",
    "            rel_date = str(x['Releasedatum Nederland'])[:10]\n",
    "            claim_id = make_claim(work, name_fiaf['ontology/property/event'], rdflib.Literal(rel_date))\n",
    "            make_qual(claim_id, name_fiaf['ontology/property/event_type'], name_fiaf['ontology/item/release_date'])\n",
    "            make_qual(claim_id, name_fiaf['ontology/property/country'], name_fiaf['ontology/item/netherlands'])            \n",
    "            reference(claim_id, name_eye['ontology/item/eye']) \n",
    "            \n",
    "    nl_censordate_date = x['Keuringsdatum']\n",
    "    if len(str(nl_censordate_date)) == 19:\n",
    "        if nl_censordate_date != numpy.nan:\n",
    "            cen_date = str(x['Keuringsdatum'])[:10]\n",
    "            claim_id = make_claim(work, name_fiaf['ontology/property/event'], rdflib.Literal(cen_date))\n",
    "            make_qual(claim_id, name_fiaf['ontology/property/event_type'], name_fiaf['ontology/item/censorship_decision'])\n",
    "            make_qual(claim_id, name_fiaf['ontology/property/country'], name_fiaf['ontology/item/netherlands'])            \n",
    "            reference(claim_id, name_eye['ontology/item/eye']) \n",
    "\n",
    "print(len(graph))\n"
   ]
  },
  {
   "cell_type": "code",
   "execution_count": 12,
   "metadata": {},
   "outputs": [
    {
     "name": "stdout",
     "output_type": "stream",
     "text": [
      "5208\n"
     ]
    }
   ],
   "source": [
    "\n",
    "# write analogue manifestations and items\n",
    "\n",
    "for x in data_analogue:\n",
    "    work_id = x['ID Filmwerk']\n",
    "    work = name_eye[f\"resource/work/{work_id}\"]  \n",
    "    \n",
    "    manifestation = name_eye[f\"resource/manifestation/{uuid.uuid4()}\"]\n",
    "    make_claim(manifestation, name_fiaf['ontology/property/instance_of'], name_fiaf['ontology/item/manifestation'])\n",
    "    make_claim(manifestation, name_fiaf['ontology/property/manifestation_of'], work)\n",
    "\n",
    "    item_id = x['ID']        \n",
    "    item = name_eye[f\"resource/item/{item_id}\"]     \n",
    "\n",
    "    make_claim(item, name_fiaf['ontology/property/instance_of'], name_fiaf['ontology/item/item'])        \n",
    "    make_claim(item, name_fiaf['ontology/property/item_of'], manifestation)  \n",
    "\n",
    "    claim1 = make_claim(item, name_fiaf['ontology/property/held_at'], name_eye['ontology/item/eye'])\n",
    "    reference(claim1, name_eye['ontology/item/eye'])          \n",
    "        \n",
    "    claim2 = make_claim(item, name_fiaf['ontology/property/external_id'], rdflib.Literal(item_id))\n",
    "    make_qual(claim2, name_fiaf['ontology/property/institution'], name_eye['ontology/item/eye'])\n",
    "    reference(claim2, name_eye['ontology/item/eye'])\n",
    "    \n",
    "    if x['Drager'] == 'Acetaat onbepaald':\n",
    "        claim_id = make_claim(item, name_fiaf['ontology/property/carrier'], name_fiaf['ontology/item/film'])\n",
    "        reference(claim_id, name_eye['ontology/item/eye'])   \n",
    "        claim_id = make_claim(item, name_fiaf['ontology/property/base'], name_fiaf['ontology/item/acetate'])\n",
    "        reference(claim_id, name_eye['ontology/item/eye'])   \n",
    "        \n",
    "        if x['Soort'] == 'Positief':\n",
    "            claim_id = make_claim(item, name_fiaf['ontology/property/element'], name_fiaf['ontology/item/print'])\n",
    "            reference(claim_id, name_eye['ontology/item/eye'])  \n",
    "        elif x['Soort'] == 'Negatief':   \n",
    "            claim_id = make_claim(item, name_fiaf['ontology/property/element'], name_fiaf['ontology/item/negative'])\n",
    "            reference(claim_id, name_eye['ontology/item/eye'])          \n",
    "        elif x['Soort'] == 'Omkeer kopie':   \n",
    "            claim_id = make_claim(item, name_fiaf['ontology/property/element'], name_fiaf['ontology/item/duplicate_reversal'])\n",
    "            reference(claim_id, name_eye['ontology/item/eye']) \n",
    "        \n",
    "    elif x['Drager'] == 'Nitraat':\n",
    "        claim_id = make_claim(item, name_fiaf['ontology/property/carrier'], name_fiaf['ontology/item/film'])\n",
    "        reference(claim_id, name_eye['ontology/item/eye']) \n",
    "        claim_id = make_claim(item, name_fiaf['ontology/property/base'], name_fiaf['ontology/item/nitrate'])\n",
    "        reference(claim_id, name_eye['ontology/item/eye'])  \n",
    "        \n",
    "        if x['Soort'] == 'Positief':\n",
    "            claim_id = make_claim(item, name_fiaf['ontology/property/element'], name_fiaf['ontology/item/print'])\n",
    "            reference(claim_id, name_eye['ontology/item/eye'])  \n",
    "        elif x['Soort'] == 'Negatief':   \n",
    "            claim_id = make_claim(item, name_fiaf['ontology/property/element'], name_fiaf['ontology/item/negative'])\n",
    "            reference(claim_id, name_eye['ontology/item/eye'])          \n",
    "        elif x['Soort'] == 'Omkeer kopie':   \n",
    "            claim_id = make_claim(item, name_fiaf['ontology/property/element'], name_fiaf['ontology/item/duplicate_reversal'])\n",
    "            reference(claim_id, name_eye['ontology/item/eye'])         \n",
    "\n",
    "    elif x['Drager'] == 'Tape':\n",
    "        claim_id = make_claim(item, name_fiaf['ontology/property/carrier'], name_fiaf['ontology/item/video_tape'])\n",
    "        reference(claim_id, name_eye['ontology/item/eye'])  \n",
    "        \n",
    "    else:\n",
    "        raise Exception('unknown drager here')\n",
    "        \n",
    "    if x['Kleuraspect'] == 'Zwart-wit':  \n",
    "        claim_id = make_claim(item, name_fiaf['ontology/property/colour'], name_fiaf['ontology/item/black_and_white'])\n",
    "        reference(claim_id, name_eye['ontology/item/eye'])         \n",
    "\n",
    "    if x['Functie'] == 'Projectiekopie': # project copy\n",
    "        claim_id = make_claim(item, name_fiaf['ontology/property/access'], name_fiaf['ontology/item/viewing'])\n",
    "        reference(claim_id, name_eye['ontology/item/eye'])      \n",
    "\n",
    "    elif x['Functie'] == 'Conserveringselement':     # pres element \n",
    "        claim_id = make_claim(item, name_fiaf['ontology/property/access'], name_fiaf['ontology/item/master'])\n",
    "        reference(claim_id, name_eye['ontology/item/eye'])        \n",
    "\n",
    "    if x['Geluid'] == 'Optisch':\n",
    "        claim_id = make_claim(item, name_fiaf['ontology/property/sound_format'], name_fiaf['ontology/item/optical'])\n",
    "        reference(claim_id, name_eye['ontology/item/eye'])   \n",
    "        \n",
    "    if x['Geluid'] == 'Stil':\n",
    "        claim_id = make_claim(item, name_fiaf['ontology/property/sound'], name_fiaf['ontology/item/silent'])\n",
    "        reference(claim_id, name_eye['ontology/item/eye'])     \n",
    "    elif x['Geluid'] in ['Optisch', 'Digitaal']:\n",
    "        claim_id = make_claim(item, name_fiaf['ontology/property/sound'], name_fiaf['ontology/item/sound'])\n",
    "        reference(claim_id, name_eye['ontology/item/eye'])  \n",
    "        \n",
    "    if x['Formaat'] == '16mm':   \n",
    "        claim_id = make_claim(item, name_fiaf['ontology/property/specific_carrier'], name_fiaf['ontology/item/16mm'])\n",
    "        reference(claim_id, name_eye['ontology/item/eye'])          \n",
    "    elif x['Formaat'] == '35mm':           \n",
    "        claim_id = make_claim(item, name_fiaf['ontology/property/specific_carrier'], name_fiaf['ontology/item/35mm'])\n",
    "        reference(claim_id, name_eye['ontology/item/eye'])   \n",
    "    elif x['Formaat'] == 'Digibeta':           \n",
    "        claim_id = make_claim(item, name_fiaf['ontology/property/specific_carrier'], name_fiaf['ontology/item/digibeta'])\n",
    "        reference(claim_id, name_eye['ontology/item/eye'])   \n",
    "    else:\n",
    "        pass\n",
    "        \n",
    "    intertitles = x['Taal tussentitels']\n",
    "    if intertitles is not numpy.nan:\n",
    "        intertitles = intertitles.split('\\n')\n",
    "        for i in intertitles:\n",
    "            if i == 'Duits':\n",
    "                claim_id = make_claim(item, name_fiaf['ontology/property/intertitles_language'], name_fiaf['ontology/item/german'])\n",
    "                reference(claim_id, name_eye['ontology/item/eye'])                   \n",
    "            if i == 'Nederlands':\n",
    "                claim_id = make_claim(item, name_fiaf['ontology/property/intertitles_language'], name_fiaf['ontology/item/dutch'])\n",
    "                reference(claim_id, name_eye['ontology/item/eye'])  \n",
    "            if i == 'Engels':\n",
    "                claim_id = make_claim(item, name_fiaf['ontology/property/intertitles_language'], name_fiaf['ontology/item/english'])\n",
    "                reference(claim_id, name_eye['ontology/item/eye'])                   \n",
    "            if i == 'Frans':\n",
    "                claim_id = make_claim(item, name_fiaf['ontology/property/intertitles_language'], name_fiaf['ontology/item/french'])\n",
    "                reference(claim_id, name_eye['ontology/item/eye'])                 \n",
    "            \n",
    "    maintitles = x['Taal titels']\n",
    "    if maintitles is not numpy.nan:\n",
    "        maintitles = maintitles.split('\\n')\n",
    "        for m in maintitles: \n",
    "            if m == 'Duits':\n",
    "                claim_id = make_claim(item, name_fiaf['ontology/property/maintitles_language'], name_fiaf['ontology/item/german'])\n",
    "                reference(claim_id, name_eye['ontology/item/eye'])                   \n",
    "            if m == 'Nederlands':\n",
    "                claim_id = make_claim(item, name_fiaf['ontology/property/maintitles_language'], name_fiaf['ontology/item/dutch'])\n",
    "                reference(claim_id, name_eye['ontology/item/eye'])                   \n",
    "\n",
    "    extent = [x['Metrage (geschat)'], x['Metrage (berekend)']]\n",
    "    extent = pydash.uniq([x for x in extent if x is not numpy.nan and x != '0'])\n",
    "    for ext in extent:\n",
    "        claim_id = make_claim(item, name_fiaf['ontology/property/extent_metres'], rdflib.Literal(ext))\n",
    "        reference(claim_id, name_eye['ontology/item/eye']) \n",
    "\n",
    "    duration = [x['Speelduur (u:m:s)'], x['Speelduur (berekend)']]\n",
    "    duration = pydash.uniq([x for x in duration if x is not numpy.nan and x != '00:00:00'])\n",
    "    for dure in duration:\n",
    "        claim_id = make_claim(item, name_fiaf['ontology/property/duration'], rdflib.Literal(dure))\n",
    "        reference(claim_id, name_eye['ontology/item/eye']) \n",
    "    \n",
    "    make_claim(work, name_fiaf['ontology/property/manifestation'], manifestation)\n",
    "    make_claim(manifestation, name_fiaf['ontology/property/item'], item)                    \n",
    "\n",
    "print(len(graph))    \n"
   ]
  },
  {
   "cell_type": "code",
   "execution_count": 13,
   "metadata": {},
   "outputs": [
    {
     "name": "stdout",
     "output_type": "stream",
     "text": [
      "6192\n"
     ]
    }
   ],
   "source": [
    "\n",
    "# write digital manifestations and items\n",
    "\n",
    "for x in data_analogue:\n",
    "    work_id = x['ID Filmwerk']\n",
    "    work = name_eye[f\"resource/work/{work_id}\"]  \n",
    "    \n",
    "    manifestation = name_eye[f\"resource/manifestation/{uuid.uuid4()}\"]\n",
    "    make_claim(manifestation, name_fiaf['ontology/property/instance_of'], name_fiaf['ontology/item/manifestation'])\n",
    "    make_claim(manifestation, name_fiaf['ontology/property/manifestation_of'], work)\n",
    "\n",
    "    item_id = x['ID']        \n",
    "    item = name_eye[f\"resource/item/{item_id}\"]     \n",
    "\n",
    "    make_claim(item, name_fiaf['ontology/property/instance_of'], name_fiaf['ontology/item/item'])        \n",
    "    make_claim(item, name_fiaf['ontology/property/item_of'], manifestation)  \n",
    "\n",
    "    claim1 = make_claim(item, name_fiaf['ontology/property/held_at'], name_eye['ontology/item/eye'])\n",
    "    reference(claim1, name_eye['ontology/item/eye'])          \n",
    "        \n",
    "    claim2 = make_claim(item, name_fiaf['ontology/property/external_id'], rdflib.Literal(item_id))\n",
    "    make_qual(claim2, name_fiaf['ontology/property/institution'], name_eye['ontology/item/eye'])\n",
    "    reference(claim2, name_eye['ontology/item/eye'])\n",
    "            \n",
    "    claim_id = make_claim(item, name_fiaf['ontology/property/carrier'], name_fiaf['ontology/item/digital'])\n",
    "    reference(claim_id, name_eye['ontology/item/eye'])        \n",
    "\n",
    "    if x['Functie'] == 'Projectiekopie': # project copy\n",
    "        claim_id = make_claim(item, name_fiaf['ontology/property/access'], name_fiaf['ontology/item/viewing'])\n",
    "        reference(claim_id, name_eye['ontology/item/eye'])      \n",
    "\n",
    "    if x['Formaat'] == '.mxf':   \n",
    "        claim_id = make_claim(item, name_fiaf['ontology/property/specific_carrier'], name_fiaf['ontology/item/mxf'])\n",
    "        reference(claim_id, name_eye['ontology/item/eye'])          \n",
    "        \n",
    "    intertitles = x['Taal tussentitels']\n",
    "    if intertitles is not numpy.nan:\n",
    "        intertitles = intertitles.split('\\n')\n",
    "        for i in intertitles:\n",
    "            if i == 'Duits':\n",
    "                claim_id = make_claim(item, name_fiaf['ontology/property/intertitles_language'], name_fiaf['ontology/item/german'])\n",
    "                reference(claim_id, name_eye['ontology/item/eye'])                   \n",
    "            if i == 'Nederlands':\n",
    "                claim_id = make_claim(item, name_fiaf['ontology/property/intertitles_language'], name_fiaf['ontology/item/dutch'])\n",
    "                reference(claim_id, name_eye['ontology/item/eye'])  \n",
    "            if i == 'Engels':\n",
    "                claim_id = make_claim(item, name_fiaf['ontology/property/intertitles_language'], name_fiaf['ontology/item/english'])\n",
    "                reference(claim_id, name_eye['ontology/item/eye'])                   \n",
    "            if i == 'Frans':\n",
    "                claim_id = make_claim(item, name_fiaf['ontology/property/intertitles_language'], name_fiaf['ontology/item/french'])\n",
    "                reference(claim_id, name_eye['ontology/item/eye'])                 \n",
    "            \n",
    "    maintitles = x['Taal titels']\n",
    "    if maintitles is not numpy.nan:\n",
    "        maintitles = maintitles.split('\\n')\n",
    "        for m in maintitles:            \n",
    "            if m == 'Duits':\n",
    "                claim_id = make_claim(item, name_fiaf['ontology/property/maintitles_language'], name_fiaf['ontology/item/german'])\n",
    "                reference(claim_id, name_eye['ontology/item/eye'])                   \n",
    "            if m == 'Nederlands':\n",
    "                claim_id = make_claim(item, name_fiaf['ontology/property/maintitles_language'], name_fiaf['ontology/item/dutch'])\n",
    "                reference(claim_id, name_eye['ontology/item/eye'])                   \n",
    "\n",
    "    duration = [x['Speelduur (u:m:s)'], x['Speelduur (berekend)']]\n",
    "    duration = pydash.uniq([x for x in duration if x is not numpy.nan and x != '00:00:00'])\n",
    "    for dure in duration:\n",
    "        claim_id = make_claim(item, name_fiaf['ontology/property/duration'], rdflib.Literal(dure))\n",
    "        reference(claim_id, name_eye['ontology/item/eye']) \n",
    "    \n",
    "    make_claim(work, name_fiaf['ontology/property/manifestation'], manifestation)\n",
    "    make_claim(manifestation, name_fiaf['ontology/property/item'], item)                    \n",
    "\n",
    "print(len(graph))  \n"
   ]
  },
  {
   "cell_type": "code",
   "execution_count": 14,
   "metadata": {},
   "outputs": [
    {
     "name": "stdout",
     "output_type": "stream",
     "text": [
      "6192\n"
     ]
    }
   ],
   "source": [
    "\n",
    "graph.serialize(destination=str(pathlib.Path.cwd() / 'eye.ttl'), format=\"turtle\")\n",
    "print(len(graph))\n"
   ]
  }
 ],
 "metadata": {
  "kernelspec": {
   "display_name": "Python 3",
   "language": "python",
   "name": "python3"
  },
  "language_info": {
   "codemirror_mode": {
    "name": "ipython",
    "version": 3
   },
   "file_extension": ".py",
   "mimetype": "text/x-python",
   "name": "python",
   "nbconvert_exporter": "python",
   "pygments_lexer": "ipython3",
   "version": "3.8.2"
  }
 },
 "nbformat": 4,
 "nbformat_minor": 4
}
